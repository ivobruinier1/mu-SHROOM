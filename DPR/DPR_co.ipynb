{
  "nbformat": 4,
  "nbformat_minor": 0,
  "metadata": {
    "colab": {
      "provenance": []
    },
    "kernelspec": {
      "name": "python3",
      "display_name": "Python 3"
    },
    "language_info": {
      "name": "python"
    },
    "widgets": {
      "application/vnd.jupyter.widget-state+json": {
        "fa9fe63651124ee99faf00ca94cfe398": {
          "model_module": "@jupyter-widgets/controls",
          "model_name": "HBoxModel",
          "model_module_version": "1.5.0",
          "state": {
            "_dom_classes": [],
            "_model_module": "@jupyter-widgets/controls",
            "_model_module_version": "1.5.0",
            "_model_name": "HBoxModel",
            "_view_count": null,
            "_view_module": "@jupyter-widgets/controls",
            "_view_module_version": "1.5.0",
            "_view_name": "HBoxView",
            "box_style": "",
            "children": [
              "IPY_MODEL_d99d13e7f5564d138ef799c65a6efc07",
              "IPY_MODEL_956fe1757e3a407082459cc1b3a2cd4c",
              "IPY_MODEL_eb9a1a3ce7924518be1d0330f889aa3d"
            ],
            "layout": "IPY_MODEL_ed001a33532c4d73a85957e2da414081"
          }
        },
        "d99d13e7f5564d138ef799c65a6efc07": {
          "model_module": "@jupyter-widgets/controls",
          "model_name": "HTMLModel",
          "model_module_version": "1.5.0",
          "state": {
            "_dom_classes": [],
            "_model_module": "@jupyter-widgets/controls",
            "_model_module_version": "1.5.0",
            "_model_name": "HTMLModel",
            "_view_count": null,
            "_view_module": "@jupyter-widgets/controls",
            "_view_module_version": "1.5.0",
            "_view_name": "HTMLView",
            "description": "",
            "description_tooltip": null,
            "layout": "IPY_MODEL_e2954fcaa7a64ab38a603859fa1ccf3a",
            "placeholder": "​",
            "style": "IPY_MODEL_64bd2452a1cb4949b213c815b449362c",
            "value": ""
          }
        },
        "956fe1757e3a407082459cc1b3a2cd4c": {
          "model_module": "@jupyter-widgets/controls",
          "model_name": "FloatProgressModel",
          "model_module_version": "1.5.0",
          "state": {
            "_dom_classes": [],
            "_model_module": "@jupyter-widgets/controls",
            "_model_module_version": "1.5.0",
            "_model_name": "FloatProgressModel",
            "_view_count": null,
            "_view_module": "@jupyter-widgets/controls",
            "_view_module_version": "1.5.0",
            "_view_name": "ProgressView",
            "bar_style": "success",
            "description": "",
            "description_tooltip": null,
            "layout": "IPY_MODEL_0a40746c9f2f45d08e8c4e4f50fc9b32",
            "max": 1,
            "min": 0,
            "orientation": "horizontal",
            "style": "IPY_MODEL_5764de4bb75b49abaca4f1276d902642",
            "value": 0
          }
        },
        "eb9a1a3ce7924518be1d0330f889aa3d": {
          "model_module": "@jupyter-widgets/controls",
          "model_name": "HTMLModel",
          "model_module_version": "1.5.0",
          "state": {
            "_dom_classes": [],
            "_model_module": "@jupyter-widgets/controls",
            "_model_module_version": "1.5.0",
            "_model_name": "HTMLModel",
            "_view_count": null,
            "_view_module": "@jupyter-widgets/controls",
            "_view_module_version": "1.5.0",
            "_view_name": "HTMLView",
            "description": "",
            "description_tooltip": null,
            "layout": "IPY_MODEL_6dd85b6640d3422fb076832bb338ad4d",
            "placeholder": "​",
            "style": "IPY_MODEL_1c53e1646319433994b52d038eb59534",
            "value": " 0/0 [00:00&lt;?, ?it/s]"
          }
        },
        "ed001a33532c4d73a85957e2da414081": {
          "model_module": "@jupyter-widgets/base",
          "model_name": "LayoutModel",
          "model_module_version": "1.2.0",
          "state": {
            "_model_module": "@jupyter-widgets/base",
            "_model_module_version": "1.2.0",
            "_model_name": "LayoutModel",
            "_view_count": null,
            "_view_module": "@jupyter-widgets/base",
            "_view_module_version": "1.2.0",
            "_view_name": "LayoutView",
            "align_content": null,
            "align_items": null,
            "align_self": null,
            "border": null,
            "bottom": null,
            "display": null,
            "flex": null,
            "flex_flow": null,
            "grid_area": null,
            "grid_auto_columns": null,
            "grid_auto_flow": null,
            "grid_auto_rows": null,
            "grid_column": null,
            "grid_gap": null,
            "grid_row": null,
            "grid_template_areas": null,
            "grid_template_columns": null,
            "grid_template_rows": null,
            "height": null,
            "justify_content": null,
            "justify_items": null,
            "left": null,
            "margin": null,
            "max_height": null,
            "max_width": null,
            "min_height": null,
            "min_width": null,
            "object_fit": null,
            "object_position": null,
            "order": null,
            "overflow": null,
            "overflow_x": null,
            "overflow_y": null,
            "padding": null,
            "right": null,
            "top": null,
            "visibility": null,
            "width": null
          }
        },
        "e2954fcaa7a64ab38a603859fa1ccf3a": {
          "model_module": "@jupyter-widgets/base",
          "model_name": "LayoutModel",
          "model_module_version": "1.2.0",
          "state": {
            "_model_module": "@jupyter-widgets/base",
            "_model_module_version": "1.2.0",
            "_model_name": "LayoutModel",
            "_view_count": null,
            "_view_module": "@jupyter-widgets/base",
            "_view_module_version": "1.2.0",
            "_view_name": "LayoutView",
            "align_content": null,
            "align_items": null,
            "align_self": null,
            "border": null,
            "bottom": null,
            "display": null,
            "flex": null,
            "flex_flow": null,
            "grid_area": null,
            "grid_auto_columns": null,
            "grid_auto_flow": null,
            "grid_auto_rows": null,
            "grid_column": null,
            "grid_gap": null,
            "grid_row": null,
            "grid_template_areas": null,
            "grid_template_columns": null,
            "grid_template_rows": null,
            "height": null,
            "justify_content": null,
            "justify_items": null,
            "left": null,
            "margin": null,
            "max_height": null,
            "max_width": null,
            "min_height": null,
            "min_width": null,
            "object_fit": null,
            "object_position": null,
            "order": null,
            "overflow": null,
            "overflow_x": null,
            "overflow_y": null,
            "padding": null,
            "right": null,
            "top": null,
            "visibility": null,
            "width": null
          }
        },
        "64bd2452a1cb4949b213c815b449362c": {
          "model_module": "@jupyter-widgets/controls",
          "model_name": "DescriptionStyleModel",
          "model_module_version": "1.5.0",
          "state": {
            "_model_module": "@jupyter-widgets/controls",
            "_model_module_version": "1.5.0",
            "_model_name": "DescriptionStyleModel",
            "_view_count": null,
            "_view_module": "@jupyter-widgets/base",
            "_view_module_version": "1.2.0",
            "_view_name": "StyleView",
            "description_width": ""
          }
        },
        "0a40746c9f2f45d08e8c4e4f50fc9b32": {
          "model_module": "@jupyter-widgets/base",
          "model_name": "LayoutModel",
          "model_module_version": "1.2.0",
          "state": {
            "_model_module": "@jupyter-widgets/base",
            "_model_module_version": "1.2.0",
            "_model_name": "LayoutModel",
            "_view_count": null,
            "_view_module": "@jupyter-widgets/base",
            "_view_module_version": "1.2.0",
            "_view_name": "LayoutView",
            "align_content": null,
            "align_items": null,
            "align_self": null,
            "border": null,
            "bottom": null,
            "display": null,
            "flex": null,
            "flex_flow": null,
            "grid_area": null,
            "grid_auto_columns": null,
            "grid_auto_flow": null,
            "grid_auto_rows": null,
            "grid_column": null,
            "grid_gap": null,
            "grid_row": null,
            "grid_template_areas": null,
            "grid_template_columns": null,
            "grid_template_rows": null,
            "height": null,
            "justify_content": null,
            "justify_items": null,
            "left": null,
            "margin": null,
            "max_height": null,
            "max_width": null,
            "min_height": null,
            "min_width": null,
            "object_fit": null,
            "object_position": null,
            "order": null,
            "overflow": null,
            "overflow_x": null,
            "overflow_y": null,
            "padding": null,
            "right": null,
            "top": null,
            "visibility": null,
            "width": "20px"
          }
        },
        "5764de4bb75b49abaca4f1276d902642": {
          "model_module": "@jupyter-widgets/controls",
          "model_name": "ProgressStyleModel",
          "model_module_version": "1.5.0",
          "state": {
            "_model_module": "@jupyter-widgets/controls",
            "_model_module_version": "1.5.0",
            "_model_name": "ProgressStyleModel",
            "_view_count": null,
            "_view_module": "@jupyter-widgets/base",
            "_view_module_version": "1.2.0",
            "_view_name": "StyleView",
            "bar_color": null,
            "description_width": ""
          }
        },
        "6dd85b6640d3422fb076832bb338ad4d": {
          "model_module": "@jupyter-widgets/base",
          "model_name": "LayoutModel",
          "model_module_version": "1.2.0",
          "state": {
            "_model_module": "@jupyter-widgets/base",
            "_model_module_version": "1.2.0",
            "_model_name": "LayoutModel",
            "_view_count": null,
            "_view_module": "@jupyter-widgets/base",
            "_view_module_version": "1.2.0",
            "_view_name": "LayoutView",
            "align_content": null,
            "align_items": null,
            "align_self": null,
            "border": null,
            "bottom": null,
            "display": null,
            "flex": null,
            "flex_flow": null,
            "grid_area": null,
            "grid_auto_columns": null,
            "grid_auto_flow": null,
            "grid_auto_rows": null,
            "grid_column": null,
            "grid_gap": null,
            "grid_row": null,
            "grid_template_areas": null,
            "grid_template_columns": null,
            "grid_template_rows": null,
            "height": null,
            "justify_content": null,
            "justify_items": null,
            "left": null,
            "margin": null,
            "max_height": null,
            "max_width": null,
            "min_height": null,
            "min_width": null,
            "object_fit": null,
            "object_position": null,
            "order": null,
            "overflow": null,
            "overflow_x": null,
            "overflow_y": null,
            "padding": null,
            "right": null,
            "top": null,
            "visibility": null,
            "width": null
          }
        },
        "1c53e1646319433994b52d038eb59534": {
          "model_module": "@jupyter-widgets/controls",
          "model_name": "DescriptionStyleModel",
          "model_module_version": "1.5.0",
          "state": {
            "_model_module": "@jupyter-widgets/controls",
            "_model_module_version": "1.5.0",
            "_model_name": "DescriptionStyleModel",
            "_view_count": null,
            "_view_module": "@jupyter-widgets/base",
            "_view_module_version": "1.2.0",
            "_view_name": "StyleView",
            "description_width": ""
          }
        }
      }
    }
  },
  "cells": [
    {
      "cell_type": "markdown",
      "source": [
        "# VERSION 2"
      ],
      "metadata": {
        "id": "3bDtBzE96yeO"
      }
    },
    {
      "cell_type": "code",
      "source": [
        "!pip install datasets\n",
        "!pip install cohere"
      ],
      "metadata": {
        "colab": {
          "base_uri": "https://localhost:8080/"
        },
        "id": "wm1D4M7S67JN",
        "outputId": "e75755c7-175b-49bc-e259-f04d29e520d4"
      },
      "execution_count": 1,
      "outputs": [
        {
          "output_type": "stream",
          "name": "stdout",
          "text": [
            "Collecting datasets\n",
            "  Downloading datasets-3.1.0-py3-none-any.whl.metadata (20 kB)\n",
            "Requirement already satisfied: filelock in /usr/local/lib/python3.10/dist-packages (from datasets) (3.16.1)\n",
            "Requirement already satisfied: numpy>=1.17 in /usr/local/lib/python3.10/dist-packages (from datasets) (1.26.4)\n",
            "Requirement already satisfied: pyarrow>=15.0.0 in /usr/local/lib/python3.10/dist-packages (from datasets) (17.0.0)\n",
            "Collecting dill<0.3.9,>=0.3.0 (from datasets)\n",
            "  Downloading dill-0.3.8-py3-none-any.whl.metadata (10 kB)\n",
            "Requirement already satisfied: pandas in /usr/local/lib/python3.10/dist-packages (from datasets) (2.2.2)\n",
            "Requirement already satisfied: requests>=2.32.2 in /usr/local/lib/python3.10/dist-packages (from datasets) (2.32.3)\n",
            "Requirement already satisfied: tqdm>=4.66.3 in /usr/local/lib/python3.10/dist-packages (from datasets) (4.66.6)\n",
            "Collecting xxhash (from datasets)\n",
            "  Downloading xxhash-3.5.0-cp310-cp310-manylinux_2_17_x86_64.manylinux2014_x86_64.whl.metadata (12 kB)\n",
            "Collecting multiprocess<0.70.17 (from datasets)\n",
            "  Downloading multiprocess-0.70.16-py310-none-any.whl.metadata (7.2 kB)\n",
            "Collecting fsspec<=2024.9.0,>=2023.1.0 (from fsspec[http]<=2024.9.0,>=2023.1.0->datasets)\n",
            "  Downloading fsspec-2024.9.0-py3-none-any.whl.metadata (11 kB)\n",
            "Requirement already satisfied: aiohttp in /usr/local/lib/python3.10/dist-packages (from datasets) (3.11.2)\n",
            "Requirement already satisfied: huggingface-hub>=0.23.0 in /usr/local/lib/python3.10/dist-packages (from datasets) (0.26.2)\n",
            "Requirement already satisfied: packaging in /usr/local/lib/python3.10/dist-packages (from datasets) (24.2)\n",
            "Requirement already satisfied: pyyaml>=5.1 in /usr/local/lib/python3.10/dist-packages (from datasets) (6.0.2)\n",
            "Requirement already satisfied: aiohappyeyeballs>=2.3.0 in /usr/local/lib/python3.10/dist-packages (from aiohttp->datasets) (2.4.3)\n",
            "Requirement already satisfied: aiosignal>=1.1.2 in /usr/local/lib/python3.10/dist-packages (from aiohttp->datasets) (1.3.1)\n",
            "Requirement already satisfied: attrs>=17.3.0 in /usr/local/lib/python3.10/dist-packages (from aiohttp->datasets) (24.2.0)\n",
            "Requirement already satisfied: frozenlist>=1.1.1 in /usr/local/lib/python3.10/dist-packages (from aiohttp->datasets) (1.5.0)\n",
            "Requirement already satisfied: multidict<7.0,>=4.5 in /usr/local/lib/python3.10/dist-packages (from aiohttp->datasets) (6.1.0)\n",
            "Requirement already satisfied: propcache>=0.2.0 in /usr/local/lib/python3.10/dist-packages (from aiohttp->datasets) (0.2.0)\n",
            "Requirement already satisfied: yarl<2.0,>=1.17.0 in /usr/local/lib/python3.10/dist-packages (from aiohttp->datasets) (1.17.2)\n",
            "Requirement already satisfied: async-timeout<6.0,>=4.0 in /usr/local/lib/python3.10/dist-packages (from aiohttp->datasets) (4.0.3)\n",
            "Requirement already satisfied: typing-extensions>=3.7.4.3 in /usr/local/lib/python3.10/dist-packages (from huggingface-hub>=0.23.0->datasets) (4.12.2)\n",
            "Requirement already satisfied: charset-normalizer<4,>=2 in /usr/local/lib/python3.10/dist-packages (from requests>=2.32.2->datasets) (3.4.0)\n",
            "Requirement already satisfied: idna<4,>=2.5 in /usr/local/lib/python3.10/dist-packages (from requests>=2.32.2->datasets) (3.10)\n",
            "Requirement already satisfied: urllib3<3,>=1.21.1 in /usr/local/lib/python3.10/dist-packages (from requests>=2.32.2->datasets) (2.2.3)\n",
            "Requirement already satisfied: certifi>=2017.4.17 in /usr/local/lib/python3.10/dist-packages (from requests>=2.32.2->datasets) (2024.8.30)\n",
            "Requirement already satisfied: python-dateutil>=2.8.2 in /usr/local/lib/python3.10/dist-packages (from pandas->datasets) (2.8.2)\n",
            "Requirement already satisfied: pytz>=2020.1 in /usr/local/lib/python3.10/dist-packages (from pandas->datasets) (2024.2)\n",
            "Requirement already satisfied: tzdata>=2022.7 in /usr/local/lib/python3.10/dist-packages (from pandas->datasets) (2024.2)\n",
            "Requirement already satisfied: six>=1.5 in /usr/local/lib/python3.10/dist-packages (from python-dateutil>=2.8.2->pandas->datasets) (1.16.0)\n",
            "Downloading datasets-3.1.0-py3-none-any.whl (480 kB)\n",
            "\u001b[2K   \u001b[90m━━━━━━━━━━━━━━━━━━━━━━━━━━━━━━━━━━━━━━━━\u001b[0m \u001b[32m480.6/480.6 kB\u001b[0m \u001b[31m9.8 MB/s\u001b[0m eta \u001b[36m0:00:00\u001b[0m\n",
            "\u001b[?25hDownloading dill-0.3.8-py3-none-any.whl (116 kB)\n",
            "\u001b[2K   \u001b[90m━━━━━━━━━━━━━━━━━━━━━━━━━━━━━━━━━━━━━━━━\u001b[0m \u001b[32m116.3/116.3 kB\u001b[0m \u001b[31m10.9 MB/s\u001b[0m eta \u001b[36m0:00:00\u001b[0m\n",
            "\u001b[?25hDownloading fsspec-2024.9.0-py3-none-any.whl (179 kB)\n",
            "\u001b[2K   \u001b[90m━━━━━━━━━━━━━━━━━━━━━━━━━━━━━━━━━━━━━━━━\u001b[0m \u001b[32m179.3/179.3 kB\u001b[0m \u001b[31m15.1 MB/s\u001b[0m eta \u001b[36m0:00:00\u001b[0m\n",
            "\u001b[?25hDownloading multiprocess-0.70.16-py310-none-any.whl (134 kB)\n",
            "\u001b[2K   \u001b[90m━━━━━━━━━━━━━━━━━━━━━━━━━━━━━━━━━━━━━━━━\u001b[0m \u001b[32m134.8/134.8 kB\u001b[0m \u001b[31m12.7 MB/s\u001b[0m eta \u001b[36m0:00:00\u001b[0m\n",
            "\u001b[?25hDownloading xxhash-3.5.0-cp310-cp310-manylinux_2_17_x86_64.manylinux2014_x86_64.whl (194 kB)\n",
            "\u001b[2K   \u001b[90m━━━━━━━━━━━━━━━━━━━━━━━━━━━━━━━━━━━━━━━━\u001b[0m \u001b[32m194.1/194.1 kB\u001b[0m \u001b[31m16.8 MB/s\u001b[0m eta \u001b[36m0:00:00\u001b[0m\n",
            "\u001b[?25hInstalling collected packages: xxhash, fsspec, dill, multiprocess, datasets\n",
            "  Attempting uninstall: fsspec\n",
            "    Found existing installation: fsspec 2024.10.0\n",
            "    Uninstalling fsspec-2024.10.0:\n",
            "      Successfully uninstalled fsspec-2024.10.0\n",
            "\u001b[31mERROR: pip's dependency resolver does not currently take into account all the packages that are installed. This behaviour is the source of the following dependency conflicts.\n",
            "gcsfs 2024.10.0 requires fsspec==2024.10.0, but you have fsspec 2024.9.0 which is incompatible.\u001b[0m\u001b[31m\n",
            "\u001b[0mSuccessfully installed datasets-3.1.0 dill-0.3.8 fsspec-2024.9.0 multiprocess-0.70.16 xxhash-3.5.0\n",
            "Collecting cohere\n",
            "  Downloading cohere-5.11.4-py3-none-any.whl.metadata (3.5 kB)\n",
            "Collecting fastavro<2.0.0,>=1.9.4 (from cohere)\n",
            "  Downloading fastavro-1.9.7-cp310-cp310-manylinux_2_17_x86_64.manylinux2014_x86_64.whl.metadata (5.5 kB)\n",
            "Requirement already satisfied: httpx>=0.21.2 in /usr/local/lib/python3.10/dist-packages (from cohere) (0.27.2)\n",
            "Collecting httpx-sse==0.4.0 (from cohere)\n",
            "  Downloading httpx_sse-0.4.0-py3-none-any.whl.metadata (9.0 kB)\n",
            "Collecting parameterized<0.10.0,>=0.9.0 (from cohere)\n",
            "  Downloading parameterized-0.9.0-py2.py3-none-any.whl.metadata (18 kB)\n",
            "Requirement already satisfied: pydantic>=1.9.2 in /usr/local/lib/python3.10/dist-packages (from cohere) (2.9.2)\n",
            "Requirement already satisfied: pydantic-core<3.0.0,>=2.18.2 in /usr/local/lib/python3.10/dist-packages (from cohere) (2.23.4)\n",
            "Requirement already satisfied: requests<3.0.0,>=2.0.0 in /usr/local/lib/python3.10/dist-packages (from cohere) (2.32.3)\n",
            "Requirement already satisfied: tokenizers<1,>=0.15 in /usr/local/lib/python3.10/dist-packages (from cohere) (0.20.3)\n",
            "Collecting types-requests<3.0.0,>=2.0.0 (from cohere)\n",
            "  Downloading types_requests-2.32.0.20241016-py3-none-any.whl.metadata (1.9 kB)\n",
            "Requirement already satisfied: typing_extensions>=4.0.0 in /usr/local/lib/python3.10/dist-packages (from cohere) (4.12.2)\n",
            "Requirement already satisfied: anyio in /usr/local/lib/python3.10/dist-packages (from httpx>=0.21.2->cohere) (3.7.1)\n",
            "Requirement already satisfied: certifi in /usr/local/lib/python3.10/dist-packages (from httpx>=0.21.2->cohere) (2024.8.30)\n",
            "Requirement already satisfied: httpcore==1.* in /usr/local/lib/python3.10/dist-packages (from httpx>=0.21.2->cohere) (1.0.7)\n",
            "Requirement already satisfied: idna in /usr/local/lib/python3.10/dist-packages (from httpx>=0.21.2->cohere) (3.10)\n",
            "Requirement already satisfied: sniffio in /usr/local/lib/python3.10/dist-packages (from httpx>=0.21.2->cohere) (1.3.1)\n",
            "Requirement already satisfied: h11<0.15,>=0.13 in /usr/local/lib/python3.10/dist-packages (from httpcore==1.*->httpx>=0.21.2->cohere) (0.14.0)\n",
            "Requirement already satisfied: annotated-types>=0.6.0 in /usr/local/lib/python3.10/dist-packages (from pydantic>=1.9.2->cohere) (0.7.0)\n",
            "Requirement already satisfied: charset-normalizer<4,>=2 in /usr/local/lib/python3.10/dist-packages (from requests<3.0.0,>=2.0.0->cohere) (3.4.0)\n",
            "Requirement already satisfied: urllib3<3,>=1.21.1 in /usr/local/lib/python3.10/dist-packages (from requests<3.0.0,>=2.0.0->cohere) (2.2.3)\n",
            "Requirement already satisfied: huggingface-hub<1.0,>=0.16.4 in /usr/local/lib/python3.10/dist-packages (from tokenizers<1,>=0.15->cohere) (0.26.2)\n",
            "Requirement already satisfied: filelock in /usr/local/lib/python3.10/dist-packages (from huggingface-hub<1.0,>=0.16.4->tokenizers<1,>=0.15->cohere) (3.16.1)\n",
            "Requirement already satisfied: fsspec>=2023.5.0 in /usr/local/lib/python3.10/dist-packages (from huggingface-hub<1.0,>=0.16.4->tokenizers<1,>=0.15->cohere) (2024.9.0)\n",
            "Requirement already satisfied: packaging>=20.9 in /usr/local/lib/python3.10/dist-packages (from huggingface-hub<1.0,>=0.16.4->tokenizers<1,>=0.15->cohere) (24.2)\n",
            "Requirement already satisfied: pyyaml>=5.1 in /usr/local/lib/python3.10/dist-packages (from huggingface-hub<1.0,>=0.16.4->tokenizers<1,>=0.15->cohere) (6.0.2)\n",
            "Requirement already satisfied: tqdm>=4.42.1 in /usr/local/lib/python3.10/dist-packages (from huggingface-hub<1.0,>=0.16.4->tokenizers<1,>=0.15->cohere) (4.66.6)\n",
            "Requirement already satisfied: exceptiongroup in /usr/local/lib/python3.10/dist-packages (from anyio->httpx>=0.21.2->cohere) (1.2.2)\n",
            "Downloading cohere-5.11.4-py3-none-any.whl (249 kB)\n",
            "\u001b[2K   \u001b[90m━━━━━━━━━━━━━━━━━━━━━━━━━━━━━━━━━━━━━━━━\u001b[0m \u001b[32m249.7/249.7 kB\u001b[0m \u001b[31m4.6 MB/s\u001b[0m eta \u001b[36m0:00:00\u001b[0m\n",
            "\u001b[?25hDownloading httpx_sse-0.4.0-py3-none-any.whl (7.8 kB)\n",
            "Downloading fastavro-1.9.7-cp310-cp310-manylinux_2_17_x86_64.manylinux2014_x86_64.whl (3.1 MB)\n",
            "\u001b[2K   \u001b[90m━━━━━━━━━━━━━━━━━━━━━━━━━━━━━━━━━━━━━━━━\u001b[0m \u001b[32m3.1/3.1 MB\u001b[0m \u001b[31m39.2 MB/s\u001b[0m eta \u001b[36m0:00:00\u001b[0m\n",
            "\u001b[?25hDownloading parameterized-0.9.0-py2.py3-none-any.whl (20 kB)\n",
            "Downloading types_requests-2.32.0.20241016-py3-none-any.whl (15 kB)\n",
            "Installing collected packages: types-requests, parameterized, httpx-sse, fastavro, cohere\n",
            "Successfully installed cohere-5.11.4 fastavro-1.9.7 httpx-sse-0.4.0 parameterized-0.9.0 types-requests-2.32.0.20241016\n"
          ]
        }
      ]
    },
    {
      "cell_type": "code",
      "source": [
        "from datasets import load_dataset\n",
        "import numpy as np\n",
        "import cohere"
      ],
      "metadata": {
        "id": "_K3IFWxU6tCG"
      },
      "execution_count": 2,
      "outputs": []
    },
    {
      "cell_type": "code",
      "source": [
        "lang = \"simple\" #simple dataset for English\n",
        "top_k = 5"
      ],
      "metadata": {
        "id": "kBpVoVh268vt"
      },
      "execution_count": 12,
      "outputs": []
    },
    {
      "cell_type": "markdown",
      "source": [
        "The next step can take a while based on max_docs :("
      ],
      "metadata": {
        "id": "42X3MOYi1upU"
      }
    },
    {
      "cell_type": "code",
      "source": [
        "co = cohere.Client('QvANkrXVSC2CB8hskBoehRdL2MclWXZMdnblVG2b') #pls dont dox me either :'/\n",
        "\n",
        "max_docs = 100000\n",
        "docs_stream = load_dataset(f\"Cohere/wikipedia-2023-11-embed-multilingual-v3\", lang, split=\"train\", streaming=True)\n",
        "\n",
        "docs = []\n",
        "doc_embeddings = []\n",
        "\n",
        "for doc in docs_stream:\n",
        "    docs.append(doc)\n",
        "    doc_embeddings.append(doc['emb'])\n",
        "    if len(docs) >= max_docs:\n",
        "        break\n",
        "\n",
        "doc_embeddings = np.asarray(doc_embeddings)"
      ],
      "metadata": {
        "id": "9v-hmWaX7Cru"
      },
      "execution_count": 30,
      "outputs": []
    },
    {
      "cell_type": "markdown",
      "source": [
        "But this step is hella fast :)"
      ],
      "metadata": {
        "id": "9LceuwM916Zu"
      }
    },
    {
      "cell_type": "code",
      "source": [
        "queries = [\n",
        "    \"What is the capital of France?\",\n",
        "    \"Who wrote the play 'Hamlet'?\",\n",
        "    \"What did Petra van Staveren win a gold medal for?\",\n",
        "    \"How did Steve Jobs die?\",\n",
        "]\n",
        "\n",
        "output = []\n",
        "\n",
        "for query in queries:\n",
        "    response = co.embed(texts=[query], model='embed-multilingual-v3.0', input_type=\"search_query\")\n",
        "    query_embedding = response.embeddings\n",
        "    query_embedding = np.asarray(query_embedding)\n",
        "\n",
        "    # Compute dot score between query embedding and document embeddings\n",
        "    dot_scores = np.matmul(query_embedding, doc_embeddings.transpose())[0]\n",
        "    top_k_hits = np.argpartition(dot_scores, -top_k)[-top_k:].tolist()\n",
        "\n",
        "    # Sort top_k_hits by dot score\n",
        "    top_k_hits.sort(key=lambda x: dot_scores[x], reverse=True)\n",
        "\n",
        "    results = []\n",
        "    for doc_id in top_k_hits:\n",
        "        passage = f\"{docs[doc_id]['title']}. {docs[doc_id]['text']}\"\n",
        "        distance = dot_scores[doc_id]\n",
        "        results.append({'passage': passage,\n",
        "                        'distance': distance})\n",
        "\n",
        "    output.append({'query': query,\n",
        "                   'results': results})"
      ],
      "metadata": {
        "id": "WKl-cOMEFOMJ"
      },
      "execution_count": 31,
      "outputs": []
    },
    {
      "cell_type": "code",
      "source": [
        "print(output)"
      ],
      "metadata": {
        "colab": {
          "base_uri": "https://localhost:8080/"
        },
        "id": "uArJLNq7vj5_",
        "outputId": "46b9be5d-0fa0-4ccb-a8cb-6cb987490609"
      },
      "execution_count": 32,
      "outputs": [
        {
          "output_type": "stream",
          "name": "stdout",
          "text": [
            "[{'query': 'What is the capital of France?', 'results': [{'passage': 'Paris. Paris (nicknamed the \"City of light\") is the capital city of France, and the largest city in France. The area is , and around 2.15 million people live there. If suburbs are counted, the population of the Paris area rises to 10.7 million people. It is the most densely populated city in the European Union, with  20.653 people per square kilometer.', 'distance': 0.6999477005530508}, {'passage': 'Île-de-France. Île-de-France is a region of France. The capital city is Paris. It is also the capital city of France. In 2013 about 12 million people lived in the region. About 2.1 million people live in the city of Paris.', 'distance': 0.6690663924949243}, {'passage': \"Paris. As the Roman Empire began to fall apart in the West, the Germanic tribe called the Franks moved in, taking it in 464. In 507, their king Clovis I made it his capital. Charlemagne moved his capital to Aachen in Germany, but Paris continued as an important town and was attacked by the Vikings twice. When Hugh Capet became king of France in 987, he again made Paris his capital. For a long time, the kings only controlled Paris and the surrounding area, as much of the rest of France was in the hands of barons or English. During the Hundred Years' War, the English controlled Paris from 1420 to 1437.\", 'distance': 0.6226948486525734}, {'passage': 'Versailles, Yvelines. Versailles is a French city. It is in the western suburbs of Paris, 17.1\\xa0km. (10.6 miles) from the center of Paris. It is the capital of the Yvelines département. This city is very important for the History of France because it was formerly the capital of the kingdom of France.', 'distance': 0.622412809457156}, {'passage': 'Paris. Paris was the Capital of the French Empire which, as well as France, covered Spain, Belgium, Holland, Luxembourg, Switzerland, Italy, most of Germany and some of Austria, Croatia, Slovenia and Poland. The Empire ruled by Napoleon was from 1804 to 1814/1815. The Russian army seized Paris from Napoleon in 1814, and the Prussian army captured it in 1871. The next time it was captured was by the Nazi Germans in 1940. The Allies freed the city in 1944 and it has not since been captured.', 'distance': 0.5981109877367805}]}, {'query': \"Who wrote the play 'Hamlet'?\", 'results': [{'passage': 'Hamlet. The Tragedy of Hamlet, Prince of Denmark is a tragedy play by William Shakespeare. It is one of his best-known plays, and many lines have become famous quotations. The play is often just called Hamlet.', 'distance': 0.6899562303425884}, {'passage': \"Playwright. The most famous playwright may be William Shakespeare. A lot of later work is based on his tragedies and comedies. For example, Kiss Me, Kate is based on Shakespeare's The Taming of the Shrew, and his Romeo and Juliet has been made again many times. Tom Stoppard created the play Rosencrantz and Guildenstern Are Dead in 1966 which is a modern adaptation of Hamlet.\", 'distance': 0.666532986046082}, {'passage': 'Hamlet. Hamlet was written between 1600 and 1602, and first printed in 1603. With 4042 lines and 29551 words, Hamlet is the longest Shakespearean play.', 'distance': 0.652027210527824}, {'passage': 'Macbeth. Macbeth is a play by William Shakespeare. Shakespeare wrote three types of plays: histories, comedies and tragedies. Macbeth is his shortest tragedy. Shakespeare wrote it between 1603 and 1607, during the reign of King James I of England.', 'distance': 0.6299407082637158}, {'passage': 'Hamlet. Hamlet is one of the hardest parts for an actor to perform. It is one of the largest roles written by Shakespeare. Many people disagree about what Hamlet is really thinking. For many actors, playing Hamlet is one of the most important parts of their career.', 'distance': 0.628919535093831}]}, {'query': 'What did Petra van Staveren win a gold medal for?', 'results': [{'passage': 'Olympic Games. Individual athletes have also used the Olympic stage to promote their own political agenda. At the 1968 Summer Olympics, in Mexico City, two American track and field athletes, Tommie Smith and John Carlos, who finished first and third in the 200meter sprint race, performed the Black Power salute on the podium. The runner up Peter Norman wore an Olympic Project for Human Rights badge in support of Smith and Carlos. IOC President Avery Brundage then told the United States, to either send the two athletes home or withdraw the track and field team. The United States chose to send the pair home.', 'distance': 0.48203595114005965}, {'passage': \"Belgium. Kim Clijsters and Justine Henin both were Player of the Year in the Women's Tennis Association. The Spa-Francorchamps motor-racing circuit hosts the Formula One World Championship Belgian Grand Prix. The Belgian driver, Jacky Ickx, won eight Grands Prix and six 24 Hours of Le Mans. Belgium also has a strong reputation in motocross. Sporting events held each year in Belgium include the Memorial Van Damme athletics competition, the Belgian Grand Prix Formula One, and a number of classic cycle races such as the Tour of Flanders and Liège–Bastogne–Liège. The 1920 Summer Olympics were held in Antwerp.\", 'distance': 0.4756519416027458}, {'passage': 'Stefano Mei. Mei won the silver medal in the 5,000 metre race, and the gold medal in the 10,000 metre race during the 1986 European Championships in Athletics in Stuttgart, Germany. Mei also won a bronze medal in the 10,000 metre race during the 1990 European Championships in Athletics, in Split, Yugoslavia (now Croatia). He competed in the 1984 and 1988 Summer Olympics.', 'distance': 0.4716954618892521}, {'passage': 'Samer Kamal. Samer Kamal is a Jordanian athlete. He won the bronze medal in Taekwondo (a form of martial arts) in the 1988 Summer Olympics in Seoul, South Korea. He was the first Jordanian athlete to get a medal for Jordan in the Olympics in Seoul. This gave many Jordanians pride in this achievement during the 1980s.', 'distance': 0.46843598420284366}, {'passage': \"October 1. 1988  Singles' Tennis: Steffi Graf wins the gold medal at the 1988 Summer Olympics, having already won all Grand Slam tournaments of the year, becoming the first, and so far only, winner of a 'Golden Slam' in tennis.\", 'distance': 0.46419971932599324}]}, {'query': 'How did Steve Jobs die?', 'results': [{'passage': 'Steve Jobs. He was seen as a leading figure in both the computer and entertainment industries. In August 2011, Jobs resigned, and was appointed Chairman of Apple. He served in that position until he died, at the age of 56, on October 5, 2011 from complications of pancreatitis related to type 1 diabetes and metastatic insulinoma. Steve Jobs had type 1 diabetes as a child and had problems with insulin when he died.', 'distance': 0.74503405970258}, {'passage': 'Steve Jobs. Jobs had health problems for the last few years of his life. He had a liver transplant. He died of cardiac arrest caused by pancreatitis and related to type 1 diabetes in 2011 at his home in Palo Alto, California. He was worth $8.3 billion (£5.1 billion) when he died.', 'distance': 0.7442537574216035}, {'passage': 'October 5. 2011  Steve Jobs, former CEO of Apple Inc., dies aged 56, leading to widespread reaction on social media.', 'distance': 0.6949308153420655}, {'passage': 'Steve Jobs. Steven Paul \"Steve\" Jobs (February 24, 1955\\xa0– October 5, 2011) was an American businessman, investor and co-founder and CEO of Apple Inc. He was the Chief Executive Officer (CEO) of Pixar Animation Studios until it was bought by The Walt Disney Company. He was the largest shareholder at Disney and a member of Disney\\'s Board of Directors.', 'distance': 0.6429163836010652}, {'passage': \"Steve Jobs. Jobs retired as CEO of Apple on August 24, 2011 because of health problems. He suggested Tim Cook as his successor. Jobs continued as the chairman of the Apple Inc.'s Board of Directors.\", 'distance': 0.619759881463071}]}]\n"
          ]
        }
      ]
    },
    {
      "cell_type": "code",
      "source": [
        "import json\n",
        "\n",
        "with open('retrieved_passages_cohere.json', 'w') as f:\n",
        "    json.dump(output, f, indent=4)"
      ],
      "metadata": {
        "id": "8oTx5j-mvhiq"
      },
      "execution_count": 34,
      "outputs": []
    },
    {
      "cell_type": "markdown",
      "source": [
        "# ALTERNATE VERSION:\n",
        "\n",
        "Just some expiriments I did with the wikipedia retriever, does not work now but can be modified. Should work great but uses scraped wikipedia pages using Beautifulsoup instead of a dataset, which means all the retrieved documents are inconsistent (for example only the first few paragraphs of a Wikipedia page). Just ignore this for now :)."
      ],
      "metadata": {
        "id": "LrwQFEIV00Wp"
      }
    },
    {
      "cell_type": "code",
      "execution_count": null,
      "metadata": {
        "colab": {
          "base_uri": "https://localhost:8080/"
        },
        "id": "VN8EoJFCYEE5",
        "outputId": "d44689e0-44b8-40ec-ea98-941e87d2a021"
      },
      "outputs": [
        {
          "output_type": "stream",
          "name": "stdout",
          "text": [
            "Collecting wikipedia\n",
            "  Downloading wikipedia-1.4.0.tar.gz (27 kB)\n",
            "  Preparing metadata (setup.py) ... \u001b[?25l\u001b[?25hdone\n",
            "Requirement already satisfied: beautifulsoup4 in /usr/local/lib/python3.10/dist-packages (from wikipedia) (4.12.3)\n",
            "Requirement already satisfied: requests<3.0.0,>=2.0.0 in /usr/local/lib/python3.10/dist-packages (from wikipedia) (2.32.3)\n",
            "Requirement already satisfied: charset-normalizer<4,>=2 in /usr/local/lib/python3.10/dist-packages (from requests<3.0.0,>=2.0.0->wikipedia) (3.4.0)\n",
            "Requirement already satisfied: idna<4,>=2.5 in /usr/local/lib/python3.10/dist-packages (from requests<3.0.0,>=2.0.0->wikipedia) (3.10)\n",
            "Requirement already satisfied: urllib3<3,>=1.21.1 in /usr/local/lib/python3.10/dist-packages (from requests<3.0.0,>=2.0.0->wikipedia) (2.2.3)\n",
            "Requirement already satisfied: certifi>=2017.4.17 in /usr/local/lib/python3.10/dist-packages (from requests<3.0.0,>=2.0.0->wikipedia) (2024.8.30)\n",
            "Requirement already satisfied: soupsieve>1.2 in /usr/local/lib/python3.10/dist-packages (from beautifulsoup4->wikipedia) (2.6)\n",
            "Building wheels for collected packages: wikipedia\n",
            "  Building wheel for wikipedia (setup.py) ... \u001b[?25l\u001b[?25hdone\n",
            "  Created wheel for wikipedia: filename=wikipedia-1.4.0-py3-none-any.whl size=11679 sha256=c70f22d7ce995d1ccfd1a5b46ed400dc4c06967211ae743b77df47c1f8c99f7e\n",
            "  Stored in directory: /root/.cache/pip/wheels/5e/b6/c5/93f3dec388ae76edc830cb42901bb0232504dfc0df02fc50de\n",
            "Successfully built wikipedia\n",
            "Installing collected packages: wikipedia\n",
            "Successfully installed wikipedia-1.4.0\n",
            "Collecting langchain-community\n",
            "  Downloading langchain_community-0.3.8-py3-none-any.whl.metadata (2.9 kB)\n",
            "Requirement already satisfied: PyYAML>=5.3 in /usr/local/lib/python3.10/dist-packages (from langchain-community) (6.0.2)\n",
            "Collecting SQLAlchemy<2.0.36,>=1.4 (from langchain-community)\n",
            "  Downloading SQLAlchemy-2.0.35-cp310-cp310-manylinux_2_17_x86_64.manylinux2014_x86_64.whl.metadata (9.6 kB)\n",
            "Requirement already satisfied: aiohttp<4.0.0,>=3.8.3 in /usr/local/lib/python3.10/dist-packages (from langchain-community) (3.11.2)\n",
            "Collecting dataclasses-json<0.7,>=0.5.7 (from langchain-community)\n",
            "  Downloading dataclasses_json-0.6.7-py3-none-any.whl.metadata (25 kB)\n",
            "Requirement already satisfied: httpx-sse<0.5.0,>=0.4.0 in /usr/local/lib/python3.10/dist-packages (from langchain-community) (0.4.0)\n",
            "Collecting langchain<0.4.0,>=0.3.8 (from langchain-community)\n",
            "  Downloading langchain-0.3.8-py3-none-any.whl.metadata (7.1 kB)\n",
            "Collecting langchain-core<0.4.0,>=0.3.21 (from langchain-community)\n",
            "  Downloading langchain_core-0.3.21-py3-none-any.whl.metadata (6.3 kB)\n",
            "Requirement already satisfied: langsmith<0.2.0,>=0.1.125 in /usr/local/lib/python3.10/dist-packages (from langchain-community) (0.1.143)\n",
            "Requirement already satisfied: numpy<2,>=1.22.4 in /usr/local/lib/python3.10/dist-packages (from langchain-community) (1.26.4)\n",
            "Collecting pydantic-settings<3.0.0,>=2.4.0 (from langchain-community)\n",
            "  Downloading pydantic_settings-2.6.1-py3-none-any.whl.metadata (3.5 kB)\n",
            "Requirement already satisfied: requests<3,>=2 in /usr/local/lib/python3.10/dist-packages (from langchain-community) (2.32.3)\n",
            "Requirement already satisfied: tenacity!=8.4.0,<10,>=8.1.0 in /usr/local/lib/python3.10/dist-packages (from langchain-community) (9.0.0)\n",
            "Requirement already satisfied: aiohappyeyeballs>=2.3.0 in /usr/local/lib/python3.10/dist-packages (from aiohttp<4.0.0,>=3.8.3->langchain-community) (2.4.3)\n",
            "Requirement already satisfied: aiosignal>=1.1.2 in /usr/local/lib/python3.10/dist-packages (from aiohttp<4.0.0,>=3.8.3->langchain-community) (1.3.1)\n",
            "Requirement already satisfied: attrs>=17.3.0 in /usr/local/lib/python3.10/dist-packages (from aiohttp<4.0.0,>=3.8.3->langchain-community) (24.2.0)\n",
            "Requirement already satisfied: frozenlist>=1.1.1 in /usr/local/lib/python3.10/dist-packages (from aiohttp<4.0.0,>=3.8.3->langchain-community) (1.5.0)\n",
            "Requirement already satisfied: multidict<7.0,>=4.5 in /usr/local/lib/python3.10/dist-packages (from aiohttp<4.0.0,>=3.8.3->langchain-community) (6.1.0)\n",
            "Requirement already satisfied: propcache>=0.2.0 in /usr/local/lib/python3.10/dist-packages (from aiohttp<4.0.0,>=3.8.3->langchain-community) (0.2.0)\n",
            "Requirement already satisfied: yarl<2.0,>=1.17.0 in /usr/local/lib/python3.10/dist-packages (from aiohttp<4.0.0,>=3.8.3->langchain-community) (1.17.2)\n",
            "Requirement already satisfied: async-timeout<6.0,>=4.0 in /usr/local/lib/python3.10/dist-packages (from aiohttp<4.0.0,>=3.8.3->langchain-community) (4.0.3)\n",
            "Collecting marshmallow<4.0.0,>=3.18.0 (from dataclasses-json<0.7,>=0.5.7->langchain-community)\n",
            "  Downloading marshmallow-3.23.1-py3-none-any.whl.metadata (7.5 kB)\n",
            "Collecting typing-inspect<1,>=0.4.0 (from dataclasses-json<0.7,>=0.5.7->langchain-community)\n",
            "  Downloading typing_inspect-0.9.0-py3-none-any.whl.metadata (1.5 kB)\n",
            "Requirement already satisfied: langchain-text-splitters<0.4.0,>=0.3.0 in /usr/local/lib/python3.10/dist-packages (from langchain<0.4.0,>=0.3.8->langchain-community) (0.3.2)\n",
            "Requirement already satisfied: pydantic<3.0.0,>=2.7.4 in /usr/local/lib/python3.10/dist-packages (from langchain<0.4.0,>=0.3.8->langchain-community) (2.9.2)\n",
            "Requirement already satisfied: jsonpatch<2.0,>=1.33 in /usr/local/lib/python3.10/dist-packages (from langchain-core<0.4.0,>=0.3.21->langchain-community) (1.33)\n",
            "Requirement already satisfied: packaging<25,>=23.2 in /usr/local/lib/python3.10/dist-packages (from langchain-core<0.4.0,>=0.3.21->langchain-community) (24.2)\n",
            "Requirement already satisfied: typing-extensions>=4.7 in /usr/local/lib/python3.10/dist-packages (from langchain-core<0.4.0,>=0.3.21->langchain-community) (4.12.2)\n",
            "Requirement already satisfied: httpx<1,>=0.23.0 in /usr/local/lib/python3.10/dist-packages (from langsmith<0.2.0,>=0.1.125->langchain-community) (0.27.2)\n",
            "Requirement already satisfied: orjson<4.0.0,>=3.9.14 in /usr/local/lib/python3.10/dist-packages (from langsmith<0.2.0,>=0.1.125->langchain-community) (3.10.11)\n",
            "Requirement already satisfied: requests-toolbelt<2.0.0,>=1.0.0 in /usr/local/lib/python3.10/dist-packages (from langsmith<0.2.0,>=0.1.125->langchain-community) (1.0.0)\n",
            "Collecting python-dotenv>=0.21.0 (from pydantic-settings<3.0.0,>=2.4.0->langchain-community)\n",
            "  Downloading python_dotenv-1.0.1-py3-none-any.whl.metadata (23 kB)\n",
            "Requirement already satisfied: charset-normalizer<4,>=2 in /usr/local/lib/python3.10/dist-packages (from requests<3,>=2->langchain-community) (3.4.0)\n",
            "Requirement already satisfied: idna<4,>=2.5 in /usr/local/lib/python3.10/dist-packages (from requests<3,>=2->langchain-community) (3.10)\n",
            "Requirement already satisfied: urllib3<3,>=1.21.1 in /usr/local/lib/python3.10/dist-packages (from requests<3,>=2->langchain-community) (2.2.3)\n",
            "Requirement already satisfied: certifi>=2017.4.17 in /usr/local/lib/python3.10/dist-packages (from requests<3,>=2->langchain-community) (2024.8.30)\n",
            "Requirement already satisfied: greenlet!=0.4.17 in /usr/local/lib/python3.10/dist-packages (from SQLAlchemy<2.0.36,>=1.4->langchain-community) (3.1.1)\n",
            "Requirement already satisfied: anyio in /usr/local/lib/python3.10/dist-packages (from httpx<1,>=0.23.0->langsmith<0.2.0,>=0.1.125->langchain-community) (3.7.1)\n",
            "Requirement already satisfied: httpcore==1.* in /usr/local/lib/python3.10/dist-packages (from httpx<1,>=0.23.0->langsmith<0.2.0,>=0.1.125->langchain-community) (1.0.7)\n",
            "Requirement already satisfied: sniffio in /usr/local/lib/python3.10/dist-packages (from httpx<1,>=0.23.0->langsmith<0.2.0,>=0.1.125->langchain-community) (1.3.1)\n",
            "Requirement already satisfied: h11<0.15,>=0.13 in /usr/local/lib/python3.10/dist-packages (from httpcore==1.*->httpx<1,>=0.23.0->langsmith<0.2.0,>=0.1.125->langchain-community) (0.14.0)\n",
            "Requirement already satisfied: jsonpointer>=1.9 in /usr/local/lib/python3.10/dist-packages (from jsonpatch<2.0,>=1.33->langchain-core<0.4.0,>=0.3.21->langchain-community) (3.0.0)\n",
            "Requirement already satisfied: annotated-types>=0.6.0 in /usr/local/lib/python3.10/dist-packages (from pydantic<3.0.0,>=2.7.4->langchain<0.4.0,>=0.3.8->langchain-community) (0.7.0)\n",
            "Requirement already satisfied: pydantic-core==2.23.4 in /usr/local/lib/python3.10/dist-packages (from pydantic<3.0.0,>=2.7.4->langchain<0.4.0,>=0.3.8->langchain-community) (2.23.4)\n",
            "Collecting mypy-extensions>=0.3.0 (from typing-inspect<1,>=0.4.0->dataclasses-json<0.7,>=0.5.7->langchain-community)\n",
            "  Downloading mypy_extensions-1.0.0-py3-none-any.whl.metadata (1.1 kB)\n",
            "Requirement already satisfied: exceptiongroup in /usr/local/lib/python3.10/dist-packages (from anyio->httpx<1,>=0.23.0->langsmith<0.2.0,>=0.1.125->langchain-community) (1.2.2)\n",
            "Downloading langchain_community-0.3.8-py3-none-any.whl (2.4 MB)\n",
            "\u001b[2K   \u001b[90m━━━━━━━━━━━━━━━━━━━━━━━━━━━━━━━━━━━━━━━━\u001b[0m \u001b[32m2.4/2.4 MB\u001b[0m \u001b[31m30.9 MB/s\u001b[0m eta \u001b[36m0:00:00\u001b[0m\n",
            "\u001b[?25hDownloading dataclasses_json-0.6.7-py3-none-any.whl (28 kB)\n",
            "Downloading langchain-0.3.8-py3-none-any.whl (1.0 MB)\n",
            "\u001b[2K   \u001b[90m━━━━━━━━━━━━━━━━━━━━━━━━━━━━━━━━━━━━━━━━\u001b[0m \u001b[32m1.0/1.0 MB\u001b[0m \u001b[31m39.6 MB/s\u001b[0m eta \u001b[36m0:00:00\u001b[0m\n",
            "\u001b[?25hDownloading langchain_core-0.3.21-py3-none-any.whl (409 kB)\n",
            "\u001b[2K   \u001b[90m━━━━━━━━━━━━━━━━━━━━━━━━━━━━━━━━━━━━━━━━\u001b[0m \u001b[32m409.5/409.5 kB\u001b[0m \u001b[31m22.9 MB/s\u001b[0m eta \u001b[36m0:00:00\u001b[0m\n",
            "\u001b[?25hDownloading pydantic_settings-2.6.1-py3-none-any.whl (28 kB)\n",
            "Downloading SQLAlchemy-2.0.35-cp310-cp310-manylinux_2_17_x86_64.manylinux2014_x86_64.whl (3.1 MB)\n",
            "\u001b[2K   \u001b[90m━━━━━━━━━━━━━━━━━━━━━━━━━━━━━━━━━━━━━━━━\u001b[0m \u001b[32m3.1/3.1 MB\u001b[0m \u001b[31m59.6 MB/s\u001b[0m eta \u001b[36m0:00:00\u001b[0m\n",
            "\u001b[?25hDownloading marshmallow-3.23.1-py3-none-any.whl (49 kB)\n",
            "\u001b[2K   \u001b[90m━━━━━━━━━━━━━━━━━━━━━━━━━━━━━━━━━━━━━━━━\u001b[0m \u001b[32m49.5/49.5 kB\u001b[0m \u001b[31m3.4 MB/s\u001b[0m eta \u001b[36m0:00:00\u001b[0m\n",
            "\u001b[?25hDownloading python_dotenv-1.0.1-py3-none-any.whl (19 kB)\n",
            "Downloading typing_inspect-0.9.0-py3-none-any.whl (8.8 kB)\n",
            "Downloading mypy_extensions-1.0.0-py3-none-any.whl (4.7 kB)\n",
            "Installing collected packages: SQLAlchemy, python-dotenv, mypy-extensions, marshmallow, typing-inspect, pydantic-settings, dataclasses-json, langchain-core, langchain, langchain-community\n",
            "  Attempting uninstall: SQLAlchemy\n",
            "    Found existing installation: SQLAlchemy 2.0.36\n",
            "    Uninstalling SQLAlchemy-2.0.36:\n",
            "      Successfully uninstalled SQLAlchemy-2.0.36\n",
            "  Attempting uninstall: langchain-core\n",
            "    Found existing installation: langchain-core 0.3.19\n",
            "    Uninstalling langchain-core-0.3.19:\n",
            "      Successfully uninstalled langchain-core-0.3.19\n",
            "  Attempting uninstall: langchain\n",
            "    Found existing installation: langchain 0.3.7\n",
            "    Uninstalling langchain-0.3.7:\n",
            "      Successfully uninstalled langchain-0.3.7\n",
            "Successfully installed SQLAlchemy-2.0.35 dataclasses-json-0.6.7 langchain-0.3.8 langchain-community-0.3.8 langchain-core-0.3.21 marshmallow-3.23.1 mypy-extensions-1.0.0 pydantic-settings-2.6.1 python-dotenv-1.0.1 typing-inspect-0.9.0\n",
            "Collecting wiki-passage-retriever\n",
            "  Downloading wiki_passage_retriever-0.1.4-py3-none-any.whl.metadata (597 bytes)\n",
            "Requirement already satisfied: requests in /usr/local/lib/python3.10/dist-packages (from wiki-passage-retriever) (2.32.3)\n",
            "Requirement already satisfied: beautifulsoup4 in /usr/local/lib/python3.10/dist-packages (from wiki-passage-retriever) (4.12.3)\n",
            "Requirement already satisfied: torch in /usr/local/lib/python3.10/dist-packages (from wiki-passage-retriever) (2.5.1+cu121)\n",
            "Requirement already satisfied: transformers in /usr/local/lib/python3.10/dist-packages (from wiki-passage-retriever) (4.46.2)\n",
            "Requirement already satisfied: click in /usr/local/lib/python3.10/dist-packages (from wiki-passage-retriever) (8.1.7)\n",
            "Collecting annoy (from wiki-passage-retriever)\n",
            "  Downloading annoy-1.17.3.tar.gz (647 kB)\n",
            "\u001b[2K     \u001b[90m━━━━━━━━━━━━━━━━━━━━━━━━━━━━━━━━━━━━━━━━\u001b[0m \u001b[32m647.5/647.5 kB\u001b[0m \u001b[31m9.8 MB/s\u001b[0m eta \u001b[36m0:00:00\u001b[0m\n",
            "\u001b[?25h  Preparing metadata (setup.py) ... \u001b[?25l\u001b[?25hdone\n",
            "Requirement already satisfied: soupsieve>1.2 in /usr/local/lib/python3.10/dist-packages (from beautifulsoup4->wiki-passage-retriever) (2.6)\n",
            "Requirement already satisfied: charset-normalizer<4,>=2 in /usr/local/lib/python3.10/dist-packages (from requests->wiki-passage-retriever) (3.4.0)\n",
            "Requirement already satisfied: idna<4,>=2.5 in /usr/local/lib/python3.10/dist-packages (from requests->wiki-passage-retriever) (3.10)\n",
            "Requirement already satisfied: urllib3<3,>=1.21.1 in /usr/local/lib/python3.10/dist-packages (from requests->wiki-passage-retriever) (2.2.3)\n",
            "Requirement already satisfied: certifi>=2017.4.17 in /usr/local/lib/python3.10/dist-packages (from requests->wiki-passage-retriever) (2024.8.30)\n",
            "Requirement already satisfied: filelock in /usr/local/lib/python3.10/dist-packages (from torch->wiki-passage-retriever) (3.16.1)\n",
            "Requirement already satisfied: typing-extensions>=4.8.0 in /usr/local/lib/python3.10/dist-packages (from torch->wiki-passage-retriever) (4.12.2)\n",
            "Requirement already satisfied: networkx in /usr/local/lib/python3.10/dist-packages (from torch->wiki-passage-retriever) (3.4.2)\n",
            "Requirement already satisfied: jinja2 in /usr/local/lib/python3.10/dist-packages (from torch->wiki-passage-retriever) (3.1.4)\n",
            "Requirement already satisfied: fsspec in /usr/local/lib/python3.10/dist-packages (from torch->wiki-passage-retriever) (2024.9.0)\n",
            "Requirement already satisfied: sympy==1.13.1 in /usr/local/lib/python3.10/dist-packages (from torch->wiki-passage-retriever) (1.13.1)\n",
            "Requirement already satisfied: mpmath<1.4,>=1.1.0 in /usr/local/lib/python3.10/dist-packages (from sympy==1.13.1->torch->wiki-passage-retriever) (1.3.0)\n",
            "Requirement already satisfied: huggingface-hub<1.0,>=0.23.2 in /usr/local/lib/python3.10/dist-packages (from transformers->wiki-passage-retriever) (0.26.2)\n",
            "Requirement already satisfied: numpy>=1.17 in /usr/local/lib/python3.10/dist-packages (from transformers->wiki-passage-retriever) (1.26.4)\n",
            "Requirement already satisfied: packaging>=20.0 in /usr/local/lib/python3.10/dist-packages (from transformers->wiki-passage-retriever) (24.2)\n",
            "Requirement already satisfied: pyyaml>=5.1 in /usr/local/lib/python3.10/dist-packages (from transformers->wiki-passage-retriever) (6.0.2)\n",
            "Requirement already satisfied: regex!=2019.12.17 in /usr/local/lib/python3.10/dist-packages (from transformers->wiki-passage-retriever) (2024.9.11)\n",
            "Requirement already satisfied: safetensors>=0.4.1 in /usr/local/lib/python3.10/dist-packages (from transformers->wiki-passage-retriever) (0.4.5)\n",
            "Requirement already satisfied: tokenizers<0.21,>=0.20 in /usr/local/lib/python3.10/dist-packages (from transformers->wiki-passage-retriever) (0.20.3)\n",
            "Requirement already satisfied: tqdm>=4.27 in /usr/local/lib/python3.10/dist-packages (from transformers->wiki-passage-retriever) (4.66.6)\n",
            "Requirement already satisfied: MarkupSafe>=2.0 in /usr/local/lib/python3.10/dist-packages (from jinja2->torch->wiki-passage-retriever) (3.0.2)\n",
            "Downloading wiki_passage_retriever-0.1.4-py3-none-any.whl (13 kB)\n",
            "Building wheels for collected packages: annoy\n",
            "  Building wheel for annoy (setup.py) ... \u001b[?25l\u001b[?25hdone\n",
            "  Created wheel for annoy: filename=annoy-1.17.3-cp310-cp310-linux_x86_64.whl size=552450 sha256=c0e7ffb36feea627633bf36031249d5669eafb17c6bb3a9ecb0c236b3b445c60\n",
            "  Stored in directory: /root/.cache/pip/wheels/64/8a/da/f714bcf46c5efdcfcac0559e63370c21abe961c48e3992465a\n",
            "Successfully built annoy\n",
            "Installing collected packages: annoy, wiki-passage-retriever\n",
            "Successfully installed annoy-1.17.3 wiki-passage-retriever-0.1.4\n"
          ]
        }
      ],
      "source": [
        "!pip install -U wikipedia\n",
        "!pip install -U langchain-community\n",
        "!pip install wiki-passage-retriever"
      ]
    },
    {
      "cell_type": "code",
      "source": [
        "from langchain_community.retrievers import WikipediaRetriever\n",
        "from langchain_core.output_parsers import StrOutputParser\n",
        "from langchain_core.prompts import ChatPromptTemplate\n",
        "from langchain_core.runnables import RunnablePassthrough\n",
        "\n",
        "from wiki_passage_retriever.retrieve import get_most_relevant_passages\n",
        "\n",
        "import spacy\n",
        "from spacy.tokenizer import Tokenizer"
      ],
      "metadata": {
        "colab": {
          "base_uri": "https://localhost:8080/",
          "height": 86,
          "referenced_widgets": [
            "fa9fe63651124ee99faf00ca94cfe398",
            "d99d13e7f5564d138ef799c65a6efc07",
            "956fe1757e3a407082459cc1b3a2cd4c",
            "eb9a1a3ce7924518be1d0330f889aa3d",
            "ed001a33532c4d73a85957e2da414081",
            "e2954fcaa7a64ab38a603859fa1ccf3a",
            "64bd2452a1cb4949b213c815b449362c",
            "0a40746c9f2f45d08e8c4e4f50fc9b32",
            "5764de4bb75b49abaca4f1276d902642",
            "6dd85b6640d3422fb076832bb338ad4d",
            "1c53e1646319433994b52d038eb59534"
          ]
        },
        "id": "uLWadhP2YIQG",
        "outputId": "b9fc46f7-6122-4ed3-a3e4-244cb079b63e"
      },
      "execution_count": null,
      "outputs": [
        {
          "output_type": "stream",
          "name": "stderr",
          "text": [
            "The cache for model files in Transformers v4.22.0 has been updated. Migrating your old cache. This is a one-time only operation. You can interrupt this and resume the migration later on by calling `transformers.utils.move_cache()`.\n"
          ]
        },
        {
          "output_type": "display_data",
          "data": {
            "text/plain": [
              "0it [00:00, ?it/s]"
            ],
            "application/vnd.jupyter.widget-view+json": {
              "version_major": 2,
              "version_minor": 0,
              "model_id": "fa9fe63651124ee99faf00ca94cfe398"
            }
          },
          "metadata": {}
        }
      ]
    },
    {
      "cell_type": "code",
      "source": [
        "queries = [\n",
        "    \"What is the capital of France?\",\n",
        "    \"Who wrote the play 'Hamlet'?\",\n",
        "    \"What did Petra van Staveren win a gold medal for?\",\n",
        "    \"How did Steve Jobs die?\",\n",
        "]"
      ],
      "metadata": {
        "id": "nsOPEmNQZb4B"
      },
      "execution_count": null,
      "outputs": []
    },
    {
      "cell_type": "code",
      "source": [
        "nlp = spacy.load('en_core_web_sm')\n",
        "tokenizer = nlp.tokenizer\n",
        "\n",
        "retriever = WikipediaRetriever()\n",
        "\n",
        "passages = {}\n",
        "\n",
        "for query in queries:\n",
        "    query = tokenizer(query)\n",
        "    doc = nlp(query)\n",
        "    for ent in doc.ents:\n",
        "        passages[query] = {}\n",
        "        docs = retriever.invoke(str(ent))\n",
        "        for i in range(len(docs)):\n",
        "            title = docs[i].metadata['title']\n",
        "            text = docs[i].page_content\n",
        "            passages[query][title] = text.split(\"/n/n\")\n",
        "print(passages)"
      ],
      "metadata": {
        "colab": {
          "base_uri": "https://localhost:8080/"
        },
        "id": "k8_XoSmxamwm",
        "outputId": "878d842d-6bfd-45ec-c6a2-c350bfc7ea8e"
      },
      "execution_count": null,
      "outputs": [
        {
          "output_type": "stream",
          "name": "stdout",
          "text": [
            "{What is the capital of France?: {'France': [\"France, officially the French Republic, is a country located primarily in Western Europe. Its overseas regions and territories include French Guiana in South America, Saint Pierre and Miquelon in the North Atlantic, the French West Indies, and many islands in Oceania and the Indian Ocean, giving it one of the largest discontiguous exclusive economic zones in the world. Metropolitan France shares borders with Belgium and Luxembourg to the north, Germany to the northeast, Switzerland to the east, Italy and Monaco to the southeast, Andorra and Spain to the south, and a maritime border with the United Kingdom to the northwest. Its metropolitan area extends from the Rhine to the Atlantic Ocean and from the Mediterranean Sea to the English Channel and the North Sea. Its eighteen integral regions (five of which are overseas) span a combined area of 643,801 km2 (248,573 sq mi) and have a total population of 68.4 million as of January 2024. France is a semi-presidential republic with its capital in Paris, the country's largest city and main cultural and commercial centre.\\nMetropolitan France was settled during the Iron Age by Celtic tribes known as Gauls before Rome annexed the area in 51 BC, leading to a distinct Gallo-Roman culture. In the Early Middle Ages, the Franks formed the Kingdom of Francia, which became the heartland of the Carolingian Empire. The Treaty of Verdun of 843 partitioned the empire, with West Francia evolving into the Kingdom of France. In the High Middle Ages, France was a powerful but decentralized feudal kingdom, but from the mid-14th to the mid-15th centuries, France was plunged into a dynastic conflict with England known as the Hundred Years' War. In the 16th century, the French Renaissance saw culture flourish and a French colonial empire rise. Internally, France was dominated by the conflict with the House of Habsburg and the French Wars of Religion between Catholics and Huguenots. France was successful in the Thirty Years' War and further increased its influence during the reign of Louis XIV.\\nThe French Revolution of 1789 overthrew the Ancien Régime and produced the Declaration of the Rights of Man, which expresses the nation's ideals to this day. France reached its political and military zenith in the early 19th century under Napoleon Bonaparte, subjugating part of continental Europe and establishing the First French Empire. The collapse of the empire initiated a period of relative decline, in which France endured the Bourbon Restoration until the founding of the French Second Republic which was succeeded by the Second French Empire upon Napoleon III's takeover. His empire collapsed during the Franco-Prussian War in 1870. This led to the establishment of the Third French Republic, and subsequent decades saw a period of economic prosperity and cultural and scientific flourishing known as the Belle Époque. France was one of the major participants of World War I, from which it emerged victorious at great human and economic cost. It was among the Allies of World War II, but it surrendered and was occupied in 1940. Following its liberation in 1944, the short-lived Fourth Republic was established and later dissolved in the course of the defeat in the Algerian War. The current Fifth Republic was formed in 1958 by Charles de Gaulle. Algeria and most French colonies became independent in the 1960s, with the majority retaining close economic and military ties with France.\\nFrance retains its centuries-long status as a global centre of art, science, and philosophy. It hosts the fourth-largest number of UNESCO World Heritage Sites and is the world's leading tourist destination, receiving 100 million foreign visitors in 2023. A developed country, France has a high nominal per capita income globally, and its advanced economy ranks among the largest in the world. It is a great power, being one of the five permanent members of the United Nations Security Council and an official nuclear-weapon state. France is a founding \"], 'Overseas France': ['Overseas France (French: France d\\'outre-mer, also France ultramarine) consists of 13 French territories outside Europe, mostly the remnants of the French colonial empire that remained a part of the French state under various statuses after decolonisation. Most, but not all are part of the European Union.\\n\"Overseas France\" is a collective name; while used in everyday life in France, it is not an administrative designation in its own right. Instead, the five overseas regions have exactly the same administrative status as the thirteen metropolitan regions; the five overseas collectivities are semi-autonomous; and New Caledonia is an autonomous territory. Overseas France includes island territories in the Atlantic, Pacific and Indian Oceans, French Guiana on the South American continent, and several peri-Antarctic islands as well as a claim in Antarctica. Excluding the district of Adélie Land, where French sovereignty is effective de jure by French law, but where the French exclusive claim on this part of Antarctica is frozen by the Antarctic Treaty (signed in 1959), overseas France covers a land area of 120,396 km2 (46,485 sq mi) and accounts for 18.0% of the French Republic\\'s land territory. Its exclusive economic zone (EEZ) of 9,825,538 km2 (3,793,661 sq mi) accounts for 96.7% of the EEZ of the French Republic.\\nOutside Europe, four broad classes of overseas French territorial administration currently exist: overseas departments/regions, overseas collectivities, the sui generis territory of New Caledonia, and uninhabited territories. From a legal and administrative standpoint, these four classes have varying legal status and levels of autonomy, although all permanently inhabited territories have representation in both France\\'s National Assembly and Senate, which together make up the French Parliament.\\n2,834,000 people lived in overseas France in January 2024. Most of these residents are citizens of France and citizens of the European Union. This makes them able to vote in French and European elections.\\n\\n\\n== Varying constitutional statuses ==\\n\\n\\n=== Overseas regions and departments ===\\n\\nOverseas regions have exactly the same status as France\\'s mainland regions. The French Constitution provides that, in general, French laws and regulations (France\\'s civil code, penal code, administrative law, social laws, tax laws, etc.) apply to French overseas regions just as in metropolitan France, but can be adapted as needed to suit the region\\'s particular needs. Hence, the local administrations of French overseas regions cannot themselves pass new laws.\\n\\nFrench Guiana (since 1946)\\nGuadeloupe (since 1946)\\nMartinique (since 1946)\\nMayotte (since 2011)\\n1976–2003: sui generis overseas territory\\n2001–2003: with the designation departmental community\\n2003–2011: overseas community.\\nIn the 2009 Mahoran status referendum, Mahorans voted to become an overseas department in 2011, which occurred on 31 March 2011.\\nRéunion (since 1946)\\n\\n\\n=== Overseas collectivities ===\\n\\nThe category of \"overseas collectivity\" (French: collectivité d\\'outre-mer or COM) was created by France\\'s constitutional reform of 28 March 2003. Each overseas collectivity has its own statutory laws.\\nIn contrast to overseas departments/regions, the overseas collectivities are empowered to make their own laws, except in certain areas reserved to the French national government (such as defense, international relations, trade and currency, and judicial and administrative law). The overseas collectivities are governed by local elected assemblies and by the French Parliament and French Government, with a cabinet member, the Minister of the Overseas, in charge of issues related to the overseas territories.\\n\\nFrench Polynesia (1946–2003: overseas territory; since 2003: overseas collectivity): In 2004 it was given the designation of \"overseas country\" (French: pays d\\'outre-mer), but the Constitutional Council of France has ruled that this designation did not create a new political category.\\nSaint Ba'], 'New France': [\"New France (French: Nouvelle-France) was the territory colonized by France in North America, beginning with the exploration of the Gulf of Saint Lawrence by Jacques Cartier in 1534 and ending with the cession of New France to Great Britain and Spain in 1763 under the Treaty of Paris.\\nA vast viceroyalty, New France consisted of five colonies at its peak in 1712, each with its own administration: Canada, the most developed colony, which was divided into the districts of Quebec (around what is now called Quebec City), Trois-Rivières, and Montreal; Hudson Bay; Acadia in the northeast; Terre-Neuve on the island of Newfoundland; and Louisiana. It extended from Newfoundland to the Canadian Prairies and from Hudson Bay to the Gulf of Mexico, including all the Great Lakes of North America.  The continent-traversing Saint Lawrence and Mississippi rivers were means of carrying French influence through much of North America.\\nIn the 16th century, the lands were used primarily to extract natural resources, such as furs, through trade with the various indigenous peoples. In the seventeenth century, successful settlements began in Acadia and in Quebec. In the 1713 Treaty of Utrecht, France ceded to Great Britain its claims over mainland Acadia, Hudson Bay, and Newfoundland. France established the colony of Île Royale on Cape Breton Island, where they built the Fortress of Louisbourg.\\nThe population rose slowly but steadily. In 1754, New France's population consisted of 10,000 Acadians, 55,000 Canadiens, and about 4,000 settlers in upper and lower Louisiana; 69,000 in total. The British expelled the Acadians in the Great Upheaval from 1755 to 1764, and their descendants are dispersed in the Maritime provinces of Canada and in Maine and Louisiana, with small populations in Chéticamp, Nova Scotia, and the Magdalen Islands. Some also went to France.\\nAfter the Seven Years' War (which included the French and Indian War in America), France ceded the rest of New France to Great Britain and Spain in the Treaty of Paris of 1763 (except the islands of Saint Pierre and Miquelon). Britain acquired Canada, Acadia, and French Louisiana east of the Mississippi River, except for the Île d'Orléans, which was granted to Spain with the territory to the west. In 1800, Spain returned its portion of Louisiana to France under the secret Treaty of San Ildefonso, and Napoleon Bonaparte sold it to the United States in the Louisiana Purchase of 1803, permanently ending French colonial efforts on the American mainland.\\nNew France eventually became absorbed within the United States and Canada, with the only vestige of French rule being the tiny islands of Saint Pierre and Miquelon, an overseas collectivity of France, although Quebec remains predominately French-speaking. In the United States, the legacy of New France includes numerous place names as well as small pockets of French-speaking communities.\\n\\n\\n== Settlements of New France ==\\n\\nNew France had five colonies or territories, each with its own administration: Canada (the Great Lakes region, the Ohio Valley, and the St. Lawrence River Valley), Acadia (the Gaspé Peninsula, New Brunswick, Nova Scotia, St. John's Island, and Île Royale-Cape Breton), Hudson Bay (and James Bay), Terre-Neuve (south Newfoundland), and Louisiana;.\\nAcadia  (1604–1713) — (areas, Port Royal, Île Saint-Jean, Île-Royale, New Brunswick and Maine)\\nCanada (1608–1763) —(districts, Québec, Trois-Rivières and Montreal; areas, Pays d'en Haut and Domaine du roy)\\nHudson Bay —(Hudson Bay conflicts 17th and 18th centuries)\\nTerre-Neuve (1662–1713)\\nLouisiana (1682–1763, 1801–1803) —(district, Illinois Country; area, Ohio Country)\\nThe 1715 Treaty of Utrecht resulted in the relinquishing of French claims to mainland Acadia, the Hudson Bay and Newfoundland, and the establishment of the colony of Île Royale, now called Cape Breton Island, where the French built the Fortress of Louisbourg.\\n\\n\\n=== Growth of the settlements ===\\n\\nThe European population grew slowly und\"]}, Who wrote the play 'Hamlet'?: {'Hamlet': ['The Tragedy of Hamlet, Prince of Denmark, often shortened to Hamlet (), is a tragedy written by William Shakespeare sometime between 1599 and 1601. It is Shakespeare\\'s longest play. Set in Denmark, the play depicts Prince Hamlet and his attempts to exact revenge against his uncle, Claudius, who has murdered Hamlet\\'s father in order to seize his throne and marry Hamlet\\'s mother. Hamlet is considered among the \"most powerful and influential tragedies in the English language\", with a story capable of \"seemingly endless retelling and adaptation by others\". It is widely considered one of the greatest plays of all time. Three different early versions of the play are extant: the First Quarto (Q1, 1603); the Second Quarto (Q2, 1604); and the First Folio (F1, 1623). Each version includes lines and passages missing from the others.\\nMany works have been pointed to as possible sources for Shakespeare\\'s play, from ancient Greek tragedies to Elizabethan dramas. The editors of the Arden Shakespeare question the idea of \"source hunting\", pointing out that it presupposes that authors always require ideas from other works for their own, and suggests that no author can have an original idea or be an originator. When Shakespeare wrote, there were many stories about sons avenging the murder of their fathers, and many about clever avenging sons pretending to be foolish in order to outsmart their foes. This would include the story of the ancient Roman, Lucius Junius Brutus, which Shakespeare apparently knew, as well as the story of Amleth, which was preserved in Latin by 13th-century chronicler Saxo Grammaticus in his Gesta Danorum, and printed in Paris in 1514. The Amleth story was subsequently adapted and then published in French in 1570 by the 16th-century scholar François de Belleforest. It has a number of plot elements and major characters in common with Shakespeare\\'s Hamlet, and lacks others that are found in Shakespeare. Belleforest\\'s story was first published in English in 1608, after Hamlet had been written, though it is possible that Shakespeare had encountered it in the French-language version.\\n\\n\\n== Characters ==\\n\\n\\n== Plot ==\\n\\n\\n=== Act I ===\\nPrince Hamlet of Denmark is the son of the recently deceased King Hamlet, and nephew of King Claudius, his father\\'s brother and successor. Claudius hastily married King Hamlet\\'s widow, Gertrude, Hamlet\\'s mother, and took the throne for himself. Denmark has a long-standing feud with neighbouring Norway, in which King Hamlet slew King Fortinbras of Norway in a battle some years ago. Although Denmark defeated Norway and the Norwegian throne fell to King Fortinbras\\'s infirm brother, Denmark fears that an invasion led by the dead Norwegian king\\'s son, Prince Fortinbras, is imminent.\\nOn a cold night on the ramparts of Elsinore, the Danish royal castle, the sentries Bernardo and Marcellus discuss a ghost resembling the late King Hamlet which they have recently seen, and bring Prince Hamlet\\'s friend Horatio as a witness. After the ghost appears again, the three vow to tell Prince Hamlet what they have witnessed.\\nThe court gathers the next day, and King Claudius and Queen Gertrude discuss affairs of state with their elderly adviser Polonius. Claudius grants permission for Polonius\\'s son Laertes to return to school in France, and he sends envoys to inform the King of Norway about Fortinbras. Claudius also questions Hamlet regarding his continuing to grieve for his father, and forbids him to return to his university in Wittenberg. After the court exits, Hamlet despairs of his father\\'s death and his mother\\'s hasty remarriage. Learning of the ghost from Horatio, Hamlet resolves to see it himself.\\n\\nAs Polonius\\'s son Laertes prepares to depart for France, Polonius offers him advice that culminates in the maxim \"to thine own self be true.\" Polonius\\'s daughter, Ophelia, admits her interest in Hamlet, but Laertes warns her against seeking the prince\\'s attention, and Polonius orders her to reject his advances. That nigh'], 'Hamlet (place)': ['A hamlet is a human settlement that is smaller than a town or village. This is often simply an informal description of a smaller settlement or possibly a subdivision or satellite entity to a larger settlement. Sometimes  a hamlet is defined for official or administrative purposes.\\nThe word and concept of a hamlet can be traced back to Norman England, where the Old French hamelet came to apply to small human settlements.\\n\\n\\n== Etymology ==\\nThe word comes from Anglo-Norman hamelet, corresponding to Old French hamelet, the diminutive of Old French hamel meaning a little village.  This, in turn, is a diminutive of Old French ham, possibly borrowed from (West Germanic) Franconian languages. It is related to the modern French hameau, Dutch heem, Frisian hiem, German Heim, Old English hām, and Modern English home.\\n\\n\\n== By country ==\\n\\n\\n=== Afghanistan ===\\nIn Afghanistan, the counterpart of the hamlet is the qala (Dari: قلعه, Pashto: کلي) meaning \"fort\" or \"hamlet\". The Afghan qala is a fortified group of houses, generally with its own community building such as a mosque, but without its own marketplace. The qala is the smallest type of settlement in Afghan society, outsized by the village (Dari/Pashto: ده), which is larger and includes a commercial area.\\n\\n\\n=== Canada ===\\nIn Canada\\'s three territories, hamlets are officially designated municipalities. As of January 1, 2010:\\n\\nNorthwest Territories had 11 hamlets, each of which had a population of less than 900 people as of the 2016 census;\\nNunavut had 24 hamlets, with populations ranging from 129 to 2,842 as of the 2016 census; and\\nYukon had two hamlets, both of which had a population of less than 450 people as of the 2016 census.\\nIn Canada\\'s provinces, hamlets are usually small unincorporated communities within a larger municipality (similar to civil townships in the United States), such as many communities within the single-tier municipalities of Ontario, Alberta\\'s specialized and rural municipalities, and Saskatchewan\\'s rural municipalities.\\nCanada\\'s two largest hamlets—Fort McMurray (formerly incorporated as a city) and Sherwood Park—are located in Alberta. They each have populations, within their main urban area, in excess of 60,000—well in excess of the 10,000-person threshold that can choose to incorporate as a city in Alberta. As such, these two hamlets have been further designated by the Province of Alberta as urban service areas. An urban service area is recognized as equivalent to a city for the purposes of provincial and federal program delivery and grant eligibility.\\n\\n\\n=== France ===\\n\\nA hamlet, French: hameau, is a group of rural dwellings, usually too small to be considered a village. The term Lieu-dit is also applied to hamlets, but this can also refer to uninhabited localities.\\nDuring the 18th century, it was fashionable for rich or noble people to create their own hameau in their gardens. This was a group of houses or farms with rustic appearance, but in fact very comfortable. The best known are the Hameau de la Reine built by the queen Marie-Antoinette in the park of the Château de Versailles, and the Hameau de Chantilly built by Louis Joseph, Prince of Condé in Chantilly, Oise.\\n\\n\\n=== Germany ===\\n\\nThe German word for hamlet is Weiler (German: [ˈva͡ɪlɐ]). A Weiler has, compared to a Dorf (village), no infrastructure (i.e. no inn, no school, no store, no church). The houses and farms of a Weiler can be grouped (in the hills and the mountains) or scattered (more often in the plains). In North West Germany, a group of scattered farms is called Bauerschaft. In a Weiler, there are no street names, the houses are just numbered.\\nThere is no legal definition of a hamlet in Germany. In Bavaria, like in Austria, a Weiler is defined as a settlement with 3 to 9 dwellings, from 10 houses it is called a village. A hamlet does not usually form its own administrative unit, but is part of a larger municipality.\\n\\n\\n=== India ===\\nIn different states of India, there are different words for h'], 'The Hamlet': ['The Hamlet is a novel by the American author William Faulkner, published in 1940, about the fictional Snopes family of Mississippi. Originally a standalone novel, it was later followed by The Town (1957) and The Mansion (1959), forming the Snopes trilogy.\\n\\n\\n== Composition ==\\nThe novel incorporates revised versions of the previously-published short stories \"Spotted Horses\" (1931, Book Four\\'s Chapter One), \"The Hound\" (1931, Book Three\\'s Chapter Two), \"Lizards in Jamshyd\\'s Courtyard\" (1932, Book One\\'s Chapter Three and Book Four\\'s Chapter Two), and \"Fool About a Horse\" (1936, Book One\\'s Chapter Two). It also makes use of material from \"Father Abraham\" (abandoned 1927, pub. 1984, Book Four\\'s Chapter One), \"Afternoon of a Cow\" (1937, pub. 1943, Book Three\\'s Chapter Two), and \"Barn Burning\" (1939, Book One\\'s Chapter One).\\n\\n\\n== Plot summary ==\\n\\nThe novel follows the exploits of the Snopes family, beginning with Ab Snopes, who is introduced more fully in Faulkner\\'s The Unvanquished. Most of the book centers on Frenchman\\'s Bend, into which the heirs of Ab and his family have migrated from parts unknown. In the beginning of the book, Ab, his wife, daughter, and son Flem settle down as tenant farmers beholden to the powerful Varner family.\\nAs the book progresses, the Snopeses move from being poor outcasts to a very controversial, if not dangerous, element in the life of the town. In contrast, V.K. Ratliff stands as the moral hero of the novel. Faulkner uses the eccentricities of the Snopeses to great comic effect, most notably in his description of Ike Snopes and his carnal inclinations toward a cow.\\n\\n\\n=== Book One: \"Flem\" ===\\n\\n\\n==== Chapter One ====\\n\\n\\n===== Part 1 (which is the only part) =====\\nFrenchman\\'s Bend/The Old Frenchman Place introduced: lawlessness; socioeconomic background of settlers. Will Varner, Jody Varner introduced. Ab Snopes rents a place from Jody; is discovered via gossip to be an alleged barn-burner. First glimpse of Eula (p. 11). Jody plans to force Ab out after getting work out of him. Ab is discovered to be mixed up in a second incident of barn-burning, over a dispute with de Spain over his wife\\'s expensive French carpet. Jody agrees to take on Flem as a clerk in the Varner store to keep Ab happy.\\n\\n\\n==== Chapter Two ====\\n\\n\\n===== Part 1 =====\\nRatliff is introduced; he claims he knew Ab a long time ago.\\n\\n\\n===== Part 2 =====\\nRatliff discusses Ab\\'s past, before he was \"soured\". Ab trades horses with Pat Stamper. Ab\\'s motive is to recover the eight Yoknapatawpha County dollars that Stamper had acquired from Beasly. Ab picks up his wife\\'s milk separator; trades Pat Stamper several teams, and comes out much the worse.\\n\\n\\n===== Part 3 =====\\nRatliff takes Ab a bottle of McCallum\\'s whiskey.\\n\\n\\n==== Chapter Three ====\\n\\n\\n===== Part 1 =====\\nFlem settles into clerking at Varner\\'s store. Ratliff is established as a gossipmonger, a speculative capitalist, a traveler. Flem disrupts the normal business practices of the Varner store by insisting on payment up front and always calculating the bill correctly. Flem has a bow tie (64). Flem quickly establishes himself as upwardly mobile. Flem establishes a cow-trading sideline; I.O. and Eck Snopes appear on the Frenchman\\'s Bend scene. The old blacksmith, Trumbull, is forced out. Jody wonders how much he\\'ll have to pay in order to keep himself safe from the rumor of Ab\\'s barn-burning.\\n\\n\\n===== Part 2 =====\\nRatliff is recovering from an operation; catches up on local gossip. Flem is making usurious loans to Negroes; I.O. is to be the new schoolteacher. Mink Snopes appears for the first time; he trades a note bearing the name \"Ike Snopes\" for a sewing machine. Ratliff tells the story of the goat-scarcity caused by the Northerner\\'s goat-ranching plans. Ike Snopes turns out to be an idiot; Flem redeems his note; Mrs. Littlejohn watches after Ike, as she can communicate with him somehow.\\n\\n\\n===== Part 3 =====\\nFlem \"passes\" Jody Varner at the store; apparently, he means to pass Will Varner, as w']}, What did Petra van Staveren win a gold medal for?: {'Petra van Staveren': ['Petronella (\"Petra\") Grietje van Staveren (born 2 June 1966) is a former breaststroke swimmer from the Netherlands who won the gold medal in the 100 meter breaststroke at the 1984 Summer Olympics in Los Angeles. She also won a bronze at the 1986 world championships and a European silver in 1983 in the 4×100 meter medley relay. She finished five times in fourth place at European championships in 1981–1985.\\n\\n\\n== References =='], 'Van Staveren': ['Van Staveren is a Dutch toponymic surname, meaning either \"from Stavoren\" or \"from Staverden\".[1] Notable people with the surname include: \\n\\nCornelis van Staveren (1889–1982), Dutch Olympic sailor\\nHeiko van Staveren (born 1942), Dutch field hockey player\\nHerman van Staveren (1849–1930), New Zealand rabbi\\nJan Adriaensz van Staveren (1614–1669), Dutch painter\\nJean-Marie van Staveren (born 1946), Dutch painter\\nPetra van Staveren (born 1966), Dutch Olympic swimmer'], 'Netherlands at the 1984 Summer Olympics': [\"The Netherlands competed at the 1984 Summer Olympics in Los Angeles, United States. 136 competitors, 82 men and 54 women, took part in 74 events in 15 sports.\\n\\n\\n== Medalists ==\\n\\n\\n== Archery ==\\n\\nBoth of the Dutch archers from the 1980 competition returned in 1984. Both shot much higher scores than they had four years earlier, but the field was more competitive with the return of many nations that had boycotted, and both dropped out of the top eight.\\nWomen's Individual Competition:\\n\\nCatherina Floris – 2422 points (→ 23rd place)\\nMen's Individual Competition:\\n\\nMartinus Reniers – 2486 points (→ 13th place)\\n\\n\\n== Athletics ==\\n\\nMen's 5,000 metres \\n\\nStijn Jaspers\\nHeat — 13:58.51 (→ did not advance)\\nMen's 3,000m Steeplechase\\n\\nHans Koeleman\\nMen's Marathon\\n\\nCor Vriend\\nFinal — 2:21:08 (→ 39th place)\\nGerard Nijboer\\nFinal — did not finish (→ no ranking)\\nCor Lambregts\\nFinal — did not finish (→ no ranking)\\nMen's Shot Put\\n\\nErik de Bruin\\nQualifying Round — 19.28 m\\nFinal — 19.65 m (→ 8th place)\\nWomen's 100 metres\\n\\nEls Vader\\nHeat 1 — 11.43s\\nHeat 2 — 11.56s (→ did not advance)\\nWomen's 1,500 metres \\n\\nElly van Hulst\\nHeat — 4:10.69\\nFinal — 4:11.58 (→ 12th place)\\nWomen's Marathon\\n\\nCarla Beurskens\\nFinal — 2:37:51 (→ 22nd place)\\nWomen's 400m Hurdles \\n\\nOlga Commandeur\\nHeat — 56.67\\nSemifinal — 57.01 (→ did not advance)\\nWomen's Discus Throw\\n\\nRia Stalman\\nQualifying Heat — 58.28m\\nFinal — 65.36m (→  Gold Medal)\\nWomen's Long Jump\\n\\nTineke Hidding\\nQualification — did not start (→ did not advance, no ranking)\\nWomen's High Jump \\n\\nMarjon Wijnsma\\nQualification — did not start (→ did not advance)\\nWomen's Heptathlon\\n\\nTineke Hidding\\nFinal Result — 6147 points (→ 7th place)\\nMarjon Wijnsma\\nFinal Result — 6015 points (→ 11th place)\\n\\n\\n== Boxing ==\\n\\nMen's Middleweight (– 75 kg)\\n\\nPedro van Raamsdonk\\nFirst Round – Defeated Augustus Oga (Kenya), on points (4:1)\\nSecond Round – Defeated Noe Cruciani (Italy), on points (5:0)\\nQuarterfinals – Lost to Arístides González (Puerto Rico), on points (1:4)\\n\\nMen's Heavyweight (– 91 kg)\\n\\nArnold Vanderlyde →  Bronze Medal\\nFirst Round – Bye\\nSecond Round – Defeated Egerton Forster (SLE), on points (4:1)\\nQuarterfinals – Defeated Georgios Stefanopoulos (GRE), on points (5:0)\\nSemifinals – Lost to Willie DeWit (CAN), on points (3:2)\\n\\n\\n== Canoeing ==\\n\\nMen's K-2 (500 metres)\\n\\nGert Jan Lebbink\\nRon Stevens\\nMen's K-2 (1,000 metres)\\n\\nGert Jan Lebbink\\nRon Stevens\\nWomen's K-1 (500 metres)\\n\\nAnnemiek Derckx\\n\\n\\n== Cycling ==\\n\\nSixteen cyclists, thirteen men and three women, represented the Netherlands in 1984.\\n\\nMen's individual road race\\nJean-Paul van Poppel — +22:20 (→ 44th place)\\nHans Daams — did not finish (→ no ranking)\\nTwan Poels — did not finish (→ no ranking)\\nNico Verhoeven — did not finish (→ no ranking)\\nTeam time trial\\nJos Alberts\\nErik Breukink\\nMaarten Ducrot\\nGert Jakobs\\nIndividual pursuit\\nJelle Nijdam\\nTeam pursuit\\nRalf Elshof\\nRik Moorman\\nJelle Nijdam\\nMarco van der Hulst\\nPoints race\\nDerk van Egmond\\nWomen's individual road race\\nLeontine van der Lienden — +10:49 (→ 28th place)\\nHennie Top — +18:12 (→ 37th place)\\nThea van Rijnsoever — +18:12 (→ 39th place)\\n\\n\\n== Diving ==\\n\\nWomen's 3m Springboard\\n\\nDaphne Jongejans — 437.40 points (→ 10th place)\\n\\n\\n== Equestrianism ==\\n\\nMixed Dressage Individual\\n\\nAnnemarie Sanders\\nTineke Bartels\\nJo Rutten\\nMixed Dressage Team\\n\\nAnnemarie Sanders\\nTineke Bartels\\nJo Rutten\\n\\n\\n== Field hockey ==\\n\\n\\n=== Men's team competition ===\\nPreliminary round (group B)\\nDefeated Canada (4-1)\\nDefeated New Zealand (3-1)\\nDrew with Pakistan (3-3)\\nLost to Great Britain (3-4)\\nDefeated Kenya (3-0)\\nClassification Matches\\n5th/8th place: Defeated Spain (0-0) after penalty strokes (10-4)\\n5th/6th place: Lost to India (2-5) → 6th place\\nTeam roster\\nPeter van Asbeck\\nEwout van Asbeck\\nLex Bos (gk)\\nRoderik Bouwman\\nCees Jan Diepeveen\\nTheo Doyer\\nMaarten van Grimbergen\\nArno den Hartog\\nTom van 't Hek\\nPierre Hermans (gk)\\nRené Klaassen\\nHans Kruize\\nHidde Kruize\\nTies Kruize\\nEric Pierik\\nRon Steens\\nHead coach: Wim van Heumen\\n\\n\\n=== Women's Team Competition ===\\nRound robin\\nDefea\"]}, How did Steve Jobs die?: {'Steve Jobs': ['Steven Paul Jobs (February 24, 1955 – October 5, 2011) was an American businessman, inventor, and investor best known for co-founding the technology company Apple Inc. Jobs was also the founder of NeXT and chairman and majority shareholder of Pixar. He was a pioneer of the personal computer revolution of the 1970s and 1980s, along with his early business partner and fellow Apple co-founder Steve Wozniak.\\nJobs was born in San Francisco in 1955 and adopted shortly afterwards. He attended Reed College in 1972 before withdrawing that same year. In 1974, he traveled through India, seeking enlightenment before later studying Zen Buddhism. He and Wozniak co-founded Apple in 1976 to further develop and sell Wozniak\\'s Apple I personal computer. Together, the duo gained fame and wealth a year later with production and sale of the Apple II, one of the first highly successful mass-produced microcomputers. \\nJobs saw the commercial potential of the Xerox Alto in 1979, which was mouse-driven and had a graphical user interface (GUI). This led to the development of the unsuccessful Apple Lisa in 1983, followed by the breakthrough Macintosh in 1984, the first mass-produced computer with a GUI. The Macintosh launched the desktop publishing industry in 1985 (for example, the Aldus Pagemaker) with the addition of the Apple LaserWriter, the first laser printer to feature vector graphics and PostScript.\\nIn 1985, Jobs departed Apple after a long power struggle with the company\\'s board and its then-CEO, John Sculley. That same year, Jobs took some Apple employees with him to found NeXT, a computer platform development company that specialized in computers for higher-education and business markets, serving as its CEO. In 1986, he helped develop the visual effects industry by funding the computer graphics division of Lucasfilm that eventually spun off independently as Pixar, which produced the first 3D computer-animated feature film Toy Story (1995) and became a leading animation studio, producing 28 films since.\\nIn 1997, Jobs returned to Apple as CEO after the company\\'s acquisition of NeXT. He was largely responsible for reviving Apple, which was on the verge of bankruptcy. He worked closely with British designer Jony Ive to develop a line of products and services that had larger cultural ramifications, beginning with the \"Think different\" advertising campaign, and leading to the iMac, iTunes, Mac OS X, Apple Store, iPod, iTunes Store, iPhone, App Store, and iPad. Jobs was also a board member at Gap Inc. from 1999 to 2002. In 2003, Jobs was diagnosed with a pancreatic neuroendocrine tumor. He died of tumor-related respiratory arrest in 2011; in 2022, he was posthumously awarded the Presidential Medal of Freedom. Since his death, he has won 141 patents; Jobs holds over 450 patents in total.\\n\\n\\n== Early life ==\\n\\n\\n=== Family ===\\nSteven Paul Jobs was born in San Francisco, California, on February 24, 1955, to Joanne Carole Schieble and Abdulfattah \"John\" Jandali (Arabic: عبد الفتاح الجندلي). Abdulfattah Jandali was born in a Muslim household to wealthy Syrian parents, the youngest of nine siblings. After obtaining his undergraduate degree at the American University of Beirut, Jandali pursued a PhD in political science at the University of Wisconsin. There, he met Joanne Schieble, an American Catholic of Swiss-German descent whose parents owned a mink farm and real estate in Green Bay. The two fell in love but faced opposition from Schieble\\'s father due to Jandali\\'s Muslim faith. When Schieble became pregnant, she arranged for a closed adoption, and travelled to San Francisco to give birth.\\nSchieble requested that her son be adopted by college graduates. A lawyer and his wife were selected, but they withdrew after discovering that the baby was a boy, so Jobs was instead adopted by Paul Reinhold and Clara (née Hagopian) Jobs. Paul Jobs, an American of German descent, was the son of a dairy farmer from Washington County, Wisconsin. After dropping out of high s'], 'Steve Jobs (film)': ['Steve Jobs is a 2015 biographical drama film directed by Danny Boyle and written by Aaron Sorkin. A British-American co-production, it was adapted from the 2011 biography by Walter Isaacson and interviews conducted by Sorkin. The film covers fourteen years in the life of Apple Inc. co-founder Steve Jobs, specifically ahead of three press conferences he gave during that time - the formal unveiling of the Macintosh 128K on January 24, 1984, the unveiling of the NeXT Computer on October 12, 1988, and the unveiling of the iMac G3 on May 6, 1998. Jobs is portrayed by Michael Fassbender, with Kate Winslet as Joanna Hoffman, Seth Rogen as Steve Wozniak, and Jeff Daniels as John Sculley in supporting roles.\\nDevelopment began in 2011 after the rights to Isaacson\\'s book were acquired. Filming began in January 2015. A variety of actors were considered and cast before Fassbender eventually took the role. Editing was extensive on the project, with editor Elliot Graham starting while the film was still shooting. Daniel Pemberton served as composer, with a focus on dividing the score into three distinguishable sections.\\nSteve Jobs premiered at the 2015 Telluride Film Festival on September 5, 2015, and began a limited release in New York City and Los Angeles on October 9, 2015. It opened nationwide in the U.S. on October 23, 2015, to widespread critical acclaim, with Boyle\\'s direction, visual style, Sorkin\\'s screenplay, musical score, cinematography, editing and the acting of Fassbender, Winslet, Rogen and Daniels garnering unanimous acclaim. However, it was a financial disappointment, grossing only $34 million worldwide against a budget of $30 million. People close to Jobs such as Steve Wozniak and John Sculley praised the performances, but the film also received criticism for historical inaccuracy. Steve Jobs was nominated for Best Actor (Fassbender) and Best Supporting Actress (Winslet) at the 88th Academy Awards, and received numerous other accolades.\\n\\n\\n== Plot ==\\nIn 1984, the Apple Macintosh 128K\\'s voice demo fails less than an hour before its unveiling at Flint Center. Apple co-founder Steve Jobs demands engineer Andy Hertzfeld to fix it, threatening to publicly implicate him in the presentation\\'s credits if he does not. Hertzfeld finally suggests faking the demo by using the prototype Macintosh 512K computer.\\nJobs rants to marketing executive Joanna Hoffman about a Time magazine article exposing his paternity dispute with ex-girlfriend Chrisann Brennan as he denies he is the father of Brennan\\'s five-year-old daughter, Lisa. Brennan arrives with Lisa to confront him – she is bitter over his denials and refusal to support her despite his wealth. Jobs bonds with Lisa over her MacPaint art and agrees to provide more money and a house. Apple co-founder Steve Wozniak asks Jobs to acknowledge the Apple II team in his presentation, but Jobs feels that mentioning the computer (which he considers obsolete) is unwise.\\nBy 1986, following the Macintosh\\'s apparent failure, Jobs has founded a new company, NeXT. Before the NeXT Computer launch at the War Memorial Opera House in 1988, he spends time with 9-year-old Lisa. However, his relationship with Brennan is still strained. He accuses her of irresponsible behavior and using Lisa to get money from him. Wozniak arrives and predicts the NeXT will be another failure. Jobs confronts him about his public criticism of him, and Wozniak questions Jobs\\' contributions to computing history. Jobs defends his role as that of a conductor who directs \"musicians\" like Wozniak.\\nApple CEO John Sculley demands to know why the world believes he fired Jobs – Jobs was actually forced out by the Apple board, who were resolute on updating the Apple II following the Macintosh\\'s lackluster sales. Despite Sculley\\'s warnings, Jobs criticized the decision and dared them to cast a final vote on his tenure. After Hoffman and Jobs discuss NeXT\\'s unclear direction, she realizes Jobs designed the computer to entice Apple to buy the ']}}\n"
          ]
        },
        {
          "output_type": "stream",
          "name": "stderr",
          "text": [
            "/usr/local/lib/python3.10/dist-packages/wikipedia/wikipedia.py:389: GuessedAtParserWarning: No parser was explicitly specified, so I'm using the best available HTML parser for this system (\"lxml\"). This usually isn't a problem, but if you run this code on another system, or in a different virtual environment, it may use a different parser and behave differently.\n",
            "\n",
            "The code that caused this warning is on line 389 of the file /usr/local/lib/python3.10/dist-packages/wikipedia/wikipedia.py. To get rid of this warning, pass the additional argument 'features=\"lxml\"' to the BeautifulSoup constructor.\n",
            "\n",
            "  lis = BeautifulSoup(html).find_all('li')\n"
          ]
        }
      ]
    },
    {
      "cell_type": "code",
      "source": [
        "n = 0\n",
        "i = 0\n",
        "keys = list(passages.keys())\n",
        "entity_keys = list(passages[keys[n]].keys())\n",
        "\n",
        "for passage in (passages[keys[n]][entity_keys[i]]):\n",
        "    print(passage)"
      ],
      "metadata": {
        "colab": {
          "base_uri": "https://localhost:8080/"
        },
        "id": "XuMuUlPuy9pS",
        "outputId": "65d6b59d-0aa4-4394-8f71-ba26312eee71"
      },
      "execution_count": null,
      "outputs": [
        {
          "output_type": "stream",
          "name": "stdout",
          "text": [
            "France, officially the French Republic, is a country located primarily in Western Europe. Its overseas regions and territories include French Guiana in South America, Saint Pierre and Miquelon in the North Atlantic, the French West Indies, and many islands in Oceania and the Indian Ocean, giving it one of the largest discontiguous exclusive economic zones in the world. Metropolitan France shares borders with Belgium and Luxembourg to the north, Germany to the northeast, Switzerland to the east, Italy and Monaco to the southeast, Andorra and Spain to the south, and a maritime border with the United Kingdom to the northwest. Its metropolitan area extends from the Rhine to the Atlantic Ocean and from the Mediterranean Sea to the English Channel and the North Sea. Its eighteen integral regions (five of which are overseas) span a combined area of 643,801 km2 (248,573 sq mi) and have a total population of 68.4 million as of January 2024. France is a semi-presidential republic with its capital in Paris, the country's largest city and main cultural and commercial centre.\n",
            "Metropolitan France was settled during the Iron Age by Celtic tribes known as Gauls before Rome annexed the area in 51 BC, leading to a distinct Gallo-Roman culture. In the Early Middle Ages, the Franks formed the Kingdom of Francia, which became the heartland of the Carolingian Empire. The Treaty of Verdun of 843 partitioned the empire, with West Francia evolving into the Kingdom of France. In the High Middle Ages, France was a powerful but decentralized feudal kingdom, but from the mid-14th to the mid-15th centuries, France was plunged into a dynastic conflict with England known as the Hundred Years' War. In the 16th century, the French Renaissance saw culture flourish and a French colonial empire rise. Internally, France was dominated by the conflict with the House of Habsburg and the French Wars of Religion between Catholics and Huguenots. France was successful in the Thirty Years' War and further increased its influence during the reign of Louis XIV.\n",
            "The French Revolution of 1789 overthrew the Ancien Régime and produced the Declaration of the Rights of Man, which expresses the nation's ideals to this day. France reached its political and military zenith in the early 19th century under Napoleon Bonaparte, subjugating part of continental Europe and establishing the First French Empire. The collapse of the empire initiated a period of relative decline, in which France endured the Bourbon Restoration until the founding of the French Second Republic which was succeeded by the Second French Empire upon Napoleon III's takeover. His empire collapsed during the Franco-Prussian War in 1870. This led to the establishment of the Third French Republic, and subsequent decades saw a period of economic prosperity and cultural and scientific flourishing known as the Belle Époque. France was one of the major participants of World War I, from which it emerged victorious at great human and economic cost. It was among the Allies of World War II, but it surrendered and was occupied in 1940. Following its liberation in 1944, the short-lived Fourth Republic was established and later dissolved in the course of the defeat in the Algerian War. The current Fifth Republic was formed in 1958 by Charles de Gaulle. Algeria and most French colonies became independent in the 1960s, with the majority retaining close economic and military ties with France.\n",
            "France retains its centuries-long status as a global centre of art, science, and philosophy. It hosts the fourth-largest number of UNESCO World Heritage Sites and is the world's leading tourist destination, receiving 100 million foreign visitors in 2023. A developed country, France has a high nominal per capita income globally, and its advanced economy ranks among the largest in the world. It is a great power, being one of the five permanent members of the United Nations Security Council and an official nuclear-weapon state. France is a founding \n"
          ]
        }
      ]
    },
    {
      "cell_type": "code",
      "source": [
        "import time\n",
        "from nltk.tokenize import sent_tokenize"
      ],
      "metadata": {
        "id": "oy0zQjwGVsvt"
      },
      "execution_count": null,
      "outputs": []
    },
    {
      "cell_type": "code",
      "source": [
        "doc_embeddings = []\n",
        "passages_test = []\n",
        "\n",
        "for query in passages:\n",
        "    for ent in passages[query]:\n",
        "        for text in passages[query][ent]:\n",
        "            paragraphs = sent_tokenize(text)\n",
        "            for passage in paragraphs:\n",
        "                passages_test.append(passage.strip())\n",
        "                # create doc_embbeddings using cohere:\n",
        "                embs = co.embed(texts=[passage], model='embed-multilingual-v3.0', input_type=\"search_document\")\n",
        "                doc_embeddings.append(embs.embeddings)\n",
        "                time.sleep(.5)\n",
        "\n",
        "doc_embeddings = np.asarray(doc_embeddings)\n",
        "\n",
        "doc_embeddings = doc_embeddings.reshape(doc_embeddings.shape[0], doc_embeddings.shape[2])\n",
        "\n",
        "print(doc_embeddings)\n",
        "print(passages_test[0])"
      ],
      "metadata": {
        "colab": {
          "base_uri": "https://localhost:8080/"
        },
        "id": "2N6RTjB9M1X8",
        "outputId": "a007b9f8-d730-4083-c068-faf1da1b75ef"
      },
      "execution_count": null,
      "outputs": [
        {
          "output_type": "stream",
          "name": "stdout",
          "text": [
            "[[ 0.03649902  0.04437256 -0.01615906 ... -0.00693512  0.05297852\n",
            "   0.0231781 ]\n",
            " [ 0.01878357  0.01704407 -0.03839111 ... -0.00423813  0.04248047\n",
            "   0.01931763]\n",
            " [ 0.0164032   0.0310669  -0.03289795 ...  0.0335083   0.00732422\n",
            "   0.01004791]\n",
            " ...\n",
            " [ 0.01049042  0.0134964  -0.01540375 ...  0.03747559  0.01432037\n",
            "   0.02098083]\n",
            " [ 0.00516891  0.05148315 -0.03573608 ...  0.01565552  0.01498413\n",
            "  -0.00985718]\n",
            " [ 0.00354576  0.03131104 -0.00556564 ...  0.03527832  0.00279236\n",
            "  -0.0091095 ]]\n",
            "France, officially the French Republic, is a country located primarily in Western Europe. Its overseas regions and territories include French Guiana in South America, Saint Pierre and Miquelon in the North Atlantic, the French West Indies, and many islands in Oceania and the Indian Ocean, giving it one of the largest discontiguous exclusive economic zones in the world. Metropolitan France shares borders with Belgium and Luxembourg to the north, Germany to the northeast, Switzerland to the east, Italy and Monaco to the southeast, Andorra and Spain to the south, and a maritime border with the United Kingdom to the northwest. Its metropolitan area extends from the Rhine to the Atlantic Ocean and from the Mediterranean Sea to the English Channel and the North Sea. Its eighteen integral regions (five of which are overseas) span a combined area of 643,801 km2 (248,573 sq mi) and have a total population of 68.4 million as of January 2024. France is a semi-presidential republic with its capital in Paris, the country's largest city and main cultural and commercial centre.\n",
            "Metropolitan France was settled during the Iron Age by Celtic tribes known as Gauls before Rome annexed the area in 51 BC, leading to a distinct Gallo-Roman culture. In the Early Middle Ages, the Franks formed the Kingdom of Francia, which became the heartland of the Carolingian Empire. The Treaty of Verdun of 843 partitioned the empire, with West Francia evolving into the Kingdom of France. In the High Middle Ages, France was a powerful but decentralized feudal kingdom, but from the mid-14th to the mid-15th centuries, France was plunged into a dynastic conflict with England known as the Hundred Years' War. In the 16th century, the French Renaissance saw culture flourish and a French colonial empire rise. Internally, France was dominated by the conflict with the House of Habsburg and the French Wars of Religion between Catholics and Huguenots. France was successful in the Thirty Years' War and further increased its influence during the reign of Louis XIV.\n",
            "The French Revolution of 1789 overthrew the Ancien Régime and produced the Declaration of the Rights of Man, which expresses the nation's ideals to this day. France reached its political and military zenith in the early 19th century under Napoleon Bonaparte, subjugating part of continental Europe and establishing the First French Empire. The collapse of the empire initiated a period of relative decline, in which France endured the Bourbon Restoration until the founding of the French Second Republic which was succeeded by the Second French Empire upon Napoleon III's takeover. His empire collapsed during the Franco-Prussian War in 1870. This led to the establishment of the Third French Republic, and subsequent decades saw a period of economic prosperity and cultural and scientific flourishing known as the Belle Époque. France was one of the major participants of World War I, from which it emerged victorious at great human and economic cost. It was among the Allies of World War II, but it surrendered and was occupied in 1940. Following its liberation in 1944, the short-lived Fourth Republic was established and later dissolved in the course of the defeat in the Algerian War. The current Fifth Republic was formed in 1958 by Charles de Gaulle. Algeria and most French colonies became independent in the 1960s, with the majority retaining close economic and military ties with France.\n",
            "France retains its centuries-long status as a global centre of art, science, and philosophy. It hosts the fourth-largest number of UNESCO World Heritage Sites and is the world's leading tourist destination, receiving 100 million foreign visitors in 2023. A developed country, France has a high nominal per capita income globally, and its advanced economy ranks among the largest in the world. It is a great power, being one of the five permanent members of the United Nations Security Council and an official nuclear-weapon state. France is a founding\n"
          ]
        }
      ]
    }
  ]
}